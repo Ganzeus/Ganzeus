{
 "cells": [
  {
   "cell_type": "markdown",
   "id": "52824b89-532a-4e54-87e9-1410813cd39e",
   "metadata": {},
   "source": [
    "# ReAct demo"
   ]
  },
  {
   "cell_type": "markdown",
   "id": "ebacbc21",
   "metadata": {},
   "source": [
    "## 导入库"
   ]
  },
  {
   "cell_type": "code",
   "execution_count": 18,
   "id": "b7ed03ed-1322-49e3-b2a2-33e94fb592ef",
   "metadata": {
    "tags": []
   },
   "outputs": [],
   "source": [
    "import os\n",
    "import openai\n",
    "openai.api_base = 'https://api.openai.com' # replace with your API base URL\n",
    "openai.api_key = 'sk-xxxxxxxxxxxxxxxxxxxxxxxxxxxxxxxx' # replace with your API key\n",
    "os.environ['OPENAI_API_KEY'] = openai.api_key\n",
    "os.environ['OPENAI_API_BASE'] = openai.api_base\n",
    "import warnings\n",
    "warnings.filterwarnings(\"ignore\")"
   ]
  },
  {
   "cell_type": "markdown",
   "id": "36fd0194-9f3d-4468-9390-f23df83e83c4",
   "metadata": {},
   "source": [
    "## 使用gpt-3.5/4模型"
   ]
  },
  {
   "cell_type": "code",
   "execution_count": 19,
   "id": "b7269176-8094-40ce-bedc-4c6421b16e98",
   "metadata": {},
   "outputs": [],
   "source": [
    "llm_model = \"gpt-4o-mini\""
   ]
  },
  {
   "cell_type": "markdown",
   "id": "0e3b9ad2",
   "metadata": {},
   "source": [
    "## 内置的工具库"
   ]
  },
  {
   "cell_type": "code",
   "execution_count": 20,
   "id": "7b93d0e8",
   "metadata": {
    "tags": []
   },
   "outputs": [],
   "source": [
    "from langchain.agents import load_tools, initialize_agent\n",
    "from langchain.agents import AgentType\n",
    "from langchain_openai import ChatOpenAI"
   ]
  },
  {
   "cell_type": "code",
   "execution_count": 21,
   "id": "7aadd5c1",
   "metadata": {
    "tags": []
   },
   "outputs": [],
   "source": [
    "llm = ChatOpenAI(temperature=0, model=llm_model)"
   ]
  },
  {
   "cell_type": "code",
   "execution_count": 22,
   "id": "394924ac",
   "metadata": {
    "tags": []
   },
   "outputs": [],
   "source": [
    "tools = load_tools([\"llm-math\",\"wikipedia\"], llm=llm)"
   ]
  },
  {
   "cell_type": "code",
   "execution_count": 24,
   "id": "02cd4956",
   "metadata": {
    "tags": []
   },
   "outputs": [],
   "source": [
    "agent= initialize_agent(\n",
    "    tools, \n",
    "    llm, \n",
    "    agent=AgentType.CHAT_ZERO_SHOT_REACT_DESCRIPTION,\n",
    "    handle_parsing_errors=True,\n",
    "    verbose = True)"
   ]
  },
  {
   "cell_type": "markdown",
   "id": "381d75fa",
   "metadata": {},
   "source": [
    "## 第一个例子，分享Doc里的例子\n",
    "注意：大模型的输出会随着时间/训练数据的变化发生改变"
   ]
  },
  {
   "cell_type": "code",
   "execution_count": 25,
   "id": "c0725ab2",
   "metadata": {},
   "outputs": [
    {
     "name": "stdout",
     "output_type": "stream",
     "text": [
      "\n",
      "\n",
      "\u001b[1m> Entering new AgentExecutor chain...\u001b[0m\n",
      "\u001b[32;1m\u001b[1;3mThought: I need to find out the founding dates of both Arthur's Magazine and First for Women to determine which one started first. I will look up each magazine's history to find this information.\n",
      "\n",
      "Action:\n",
      "```\n",
      "{\n",
      "  \"action\": \"wikipedia\",\n",
      "  \"action_input\": \"Arthur's Magazine\"\n",
      "}\n",
      "```\n",
      "\u001b[0m\n",
      "Observation: \u001b[33;1m\u001b[1;3mPage: Arthur's Magazine\n",
      "Summary: Arthur's Magazine (1844–1846) was an American literary periodical published in Philadelphia in the 19th century. Edited by Timothy Shay Arthur, it featured work by Edgar A. Poe, J.H. Ingraham, Sarah Josepha Hale, Thomas G. Spear, and others. In May 1846 it was merged into Godey's Lady's Book.\n",
      "A few years later Arthur would launch a new publication entitled Arthur's Home Magazine.\n",
      "\n",
      "Page: Arthur (magazine)\n",
      "Summary: Arthur magazine was a bi-monthly periodical that was founded in October 2002, by publisher Laris Kreslins and editor Jay Babcock. It received favorable attention from other periodicals such as L.A. Weekly, Print, Punk Planet and Rolling Stone. Arthur featured photography and artwork from Spike Jonze, Art Spiegelman, Susannah Breslin, Gary Panter and Godspeed You! Black Emperor. Arthur's regular columnists included Byron Coley, Thurston Moore, Daniel Pinchbeck, Paul Cullum, Douglas Rushkoff, and T-Model Ford. Some of the magazine's influences included Joan Didion, Thomas Paine, William Blake, Lester Bangs, Hunter S. Thompson, Tom Wolfe, and Greil Marcus, as well and the exhibit and book A Secret Location on the Lower East Side: Adventures in Writing, 1960-1980.\n",
      "Arthur magazine was particularly drawn to noise music, stoner metal, folk and other types of psychedelia. The first issue of Arthur featured an interview with journalist and author Daniel Pinchbeck (author of Breaking Open the Head); artwork by Alan Moore (Watchmen, From Hell, League of Extraordinary Gentlemen); and an interview with Arthur C. Clarke.\n",
      "Previous to creating the publication, Laris Kreslins created the popular music journals Sound Collector and Audio Review. Jay Babcock was a contributor to Mojo magazine and the L.A. Weekly.\n",
      "Arthur magazine also released CDs and DVDs under the imprint of their label. On Labor Day weekend in 2005, they curated Arthurfest in Barnsdall Park; in February 2006, Arthur Ball in Echo Park; and in October 2006 Arthur Nights at The Palace Theater, in downtown Los Angeles.\n",
      "On February 25, 2007, it was announced on the magazine's web site that it would be ceasing publication indefinitely. The hiatus was due to a breakdown in negotiations between Lime Publishing (Arthur's original publisher) and another unnamed publisher. In April 2007, it was announced that the magazine would return as Arthur Vol. II in the near future. The magazine resumed publication in September 2007.\n",
      "In June 2008, owner Jay Babcock moved Arthur's headquarters from Los Angeles to New York, the seat of North America's publishing industry.\n",
      "On March 6, 2011, Jay Babcock announced that the magazine would cease to exist in any form as of March 15, 2011, though its archive and store would remain active for an unspecified period thereafter.\n",
      "In November 2012, the Arthur website announced the return of the magazine as of December 22, 2012. However, this resurgence proved to be brief, and in March 2014 the magazine once again announced that its online and print versions would go dormant.\n",
      "As of April 20, 2017, Jay Babcock announced the start of Landline bulletin, a continuation of Arthur Magazine email bulletin. As Babcock describes it, \"What is this stuff? Ideas and nudges, hopefully forming a small bailiwick outside the unceasing current of cruddiness — irregular epistles intended for friends, colleagues, Arthur heads, pastoral people, plant people, rural country people, dharma people, herbalists, gardeners, wild people and other curious sweetfolk.\"\n",
      "\n",
      "Page: Arthur's Lady's Home Magazine\n",
      "Summary: Arthur's Home Magazine (1852 – c. 1898) or Ladies' Home Magazine was an American periodical published in Philadelphia by Timothy Shay Arthur. Editors Arthur and Virginia Frances Townsend selected writing and illustrations intended to appeal to female readers. Among the contributors were Mary Tyler Peabody Mann, Rosella Rice, and Kate Sutherland.\n",
      "In its early years, the monthly contained a selection of articles originally published in Arthur's w\u001b[0m\n",
      "Thought:\u001b[32;1m\u001b[1;3mI need to find the founding date of \"First for Women\" magazine to compare it with \"Arthur's Magazine\" which I already found was published in 1844. \n",
      "\n",
      "Action:\n",
      "```\n",
      "{\n",
      "  \"action\": \"wikipedia\",\n",
      "  \"action_input\": \"First for Women magazine\"\n",
      "}\n",
      "```\n",
      "\u001b[0m\n",
      "Observation: \u001b[33;1m\u001b[1;3mPage: First for Women\n",
      "Summary: First for Women is a woman's magazine published by A360media in the US. The magazine was started in 1989 by Bauer Media Group. In 2011 the circulation of the magazine was 1,310,696 copies.\n",
      "\n",
      "Page: List of women's magazines\n",
      "Summary: This is a list of women's magazines from around the world. These are magazines that have been published primarily for a readership of women.\n",
      "\n",
      "Page: Ms. (magazine)\n",
      "Summary: Ms. is an American feminist magazine co-founded in 1971 by journalist and social/political activist Gloria Steinem. It was the first national American feminist magazine. The original editors were Letty Cottin Pogrebin, Mary Thom, Patricia Carbine, Joanne Edgar, Nina Finkelstein, Mary Peacock, Margaret Sloan-Hunter, and Gloria Steinem. Beginning as a one-off insert in New York magazine in 1971, the first stand-alone issue of Ms. appeared in January 1972, with funding from New York editor Clay Felker. It was intended to appeal to a wide audience and featured articles about a variety of issues related to women and feminism. From July 1972 until 1987, it was published on a monthly basis. It now publishes quarterly.\n",
      "At its peak in the 1970s, Ms. enjoyed great success but was not always able to reconcile its ideological concerns with commercial considerations. Since 2001, the magazine has been published by the Feminist Majority Foundation, based in Los Angeles and Arlington, Virginia.\n",
      "\n",
      "\u001b[0m\n",
      "Thought:\u001b[32;1m\u001b[1;3mI have found the founding dates for both magazines. \"Arthur's Magazine\" was started in 1844, while \"First for Women\" was started in 1989. Since 1844 is earlier than 1989, \"Arthur's Magazine\" was the first to be published.\n",
      "\n",
      "Final Answer: Arthur's Magazine was started first, in 1844.\u001b[0m\n",
      "\n",
      "\u001b[1m> Finished chain.\u001b[0m\n"
     ]
    },
    {
     "data": {
      "text/plain": [
       "{'input': \"which magazine was start first, Arthur's Magazine or First for Woman\",\n",
       " 'output': \"Arthur's Magazine was started first, in 1844.\"}"
      ]
     },
     "execution_count": 25,
     "metadata": {},
     "output_type": "execute_result"
    }
   ],
   "source": [
    "question_share= \"which magazine was start first, Arthur's Magazine or First for Woman\"\n",
    "agent(question_share)"
   ]
  },
  {
   "cell_type": "markdown",
   "id": "b3d66bbe",
   "metadata": {},
   "source": [
    "## 第二个例子，使用计算器"
   ]
  },
  {
   "cell_type": "code",
   "execution_count": 26,
   "id": "44601fe4-5f24-4ff2-a5df-a7e194a5b4f8",
   "metadata": {
    "tags": []
   },
   "outputs": [
    {
     "name": "stdout",
     "output_type": "stream",
     "text": [
      "\n",
      "\n",
      "\u001b[1m> Entering new AgentExecutor chain...\u001b[0m\n",
      "\u001b[32;1m\u001b[1;3mThought: 我需要计算300的平方根。\n",
      "Action:\n",
      "```\n",
      "{\n",
      "  \"action\": \"Calculator\",\n",
      "  \"action_input\": \"sqrt(300)\"\n",
      "}\n",
      "```\n",
      "\u001b[0m\n",
      "Observation: \u001b[36;1m\u001b[1;3mAnswer: 17.320508075688775\u001b[0m\n",
      "Thought:\u001b[32;1m\u001b[1;3m我现在知道300的平方根是17.320508075688775。\n",
      "Final Answer: 17.320508075688775\u001b[0m\n",
      "\n",
      "\u001b[1m> Finished chain.\u001b[0m\n"
     ]
    },
    {
     "data": {
      "text/plain": [
       "{'input': '300的平方根是多少？', 'output': '17.320508075688775'}"
      ]
     },
     "execution_count": 26,
     "metadata": {},
     "output_type": "execute_result"
    }
   ],
   "source": [
    "agent(\"300的平方根是多少？\")"
   ]
  },
  {
   "cell_type": "markdown",
   "id": "10ee3df6-ded9-4c96-ba47-a6cf636c1b9b",
   "metadata": {},
   "source": [
    "## 第三个例子，使用计算器和维基百科"
   ]
  },
  {
   "cell_type": "code",
   "execution_count": 29,
   "id": "67306deb",
   "metadata": {},
   "outputs": [
    {
     "name": "stdout",
     "output_type": "stream",
     "text": [
      "\n",
      "\n",
      "\u001b[1m> Entering new AgentExecutor chain...\u001b[0m\n",
      "\u001b[32;1m\u001b[1;3mQuestion: 毛泽东是中华人民共和国的建立者之一，建国的时候，他几岁?\n",
      "Thought: 我需要查找毛泽东的出生年份和中华人民共和国成立的年份，以计算他在建国时的年龄。\n",
      "Action:\n",
      "```\n",
      "{\n",
      "  \"action\": \"wikipedia\",\n",
      "  \"action_input\": \"毛泽东\"\n",
      "}\n",
      "```\n",
      "\u001b[0m\n",
      "Observation: \u001b[33;1m\u001b[1;3mPage: Mao Zedong\n",
      "Summary: Mao Zedong (26 December 1893 – 9 September 1976), also known as Chairman Mao, was a Chinese politician, Marxist theorist, military strategist, poet, and revolutionary who was the founder of the People's Republic of China (PRC). He led the country from its establishment in 1949 until his death in 1976, while also serving as the chairman of the Chinese Communist Party during that time. His theories, military strategies and policies are known as Maoism.\n",
      "Mao was the son of a prosperous peasant in Shaoshan, Hunan. He supported Chinese nationalism and had an anti-imperialist outlook early in his life, and was particularly influenced by the events of the Xinhai Revolution of 1911 and the May Fourth Movement of 1919. He later adopted Marxism–Leninism while working at Peking University as a librarian. He became a founding member of the Chinese Communist Party (CCP), leading the Autumn Harvest Uprising in 1927. During the Chinese Civil War between the Kuomintang (KMT) and the CCP, Mao helped to found the Chinese Red Army, led the Jiangxi Soviet's radical land reform policies, and ultimately became head of the CCP during the Long March. Although the CCP temporarily allied with the KMT under the Second United Front during the Second Sino-Japanese War (1937–1945), China's civil war resumed after Japan's surrender. Mao's forces defeated the Nationalist government, which withdrew to Taiwan in 1949.\n",
      "On 1 October 1949, Mao proclaimed the foundation of the PRC, a Marxist–Leninist single-party state controlled by the CCP. In the following years he solidified his control through the land reform campaign against landlords, the Campaign to Suppress Counterrevolutionaries, the \"Three-anti and Five-anti Campaigns\", and through a truce in the Korean War, which altogether resulted in the deaths of several million Chinese. From 1953 to 1958, Mao played an important role in enforcing command economy in China, constructing the first Constitution of the PRC, launching an industrialisation program, and initiating military projects such as the \"Two Bombs, One Satellite\" project and Project 523. His foreign policies during this time were dominated by the Sino-Soviet split which drove a wedge between China and the Soviet Union. In 1955, Mao launched the Sufan movement, and in 1957 he launched the Anti-Rightist Campaign, in which at least 550,000 people, mostly intellectuals and dissidents, were persecuted. In 1958, he launched the Great Leap Forward that aimed to rapidly transform China's economy from agrarian to industrial, which led to the Great Chinese Famine and the deaths of 15–55 million people between 1958 and 1962.\n",
      "In 1963, Mao launched the Socialist Education Movement, and in 1966 he initiated the Cultural Revolution, a program to remove \"counter-revolutionary\" elements in Chinese society which lasted 10 years and was marked by violent class struggle, widespread destruction of cultural artifacts, and an unprecedented elevation of Mao's cult of personality. Tens of millions of people were persecuted during the Revolution, while the estimated number of deaths ranges from hundreds of thousands to millions. After years of ill health, Mao suffered a series of heart attacks in 1976 and died at the age of 82. During the Mao era, China's population grew from around 550 million to over 900 million while the government did not strictly enforce its family planning policy. During his leadership tenure, China was heavily involved with other Asian communist conflicts such as the Korean War, the Vietnam War, and the Cambodian Civil War.\n",
      "Mao is considered one of the most influential figures of the 20th century. Mao's policies were responsible for a vast number of deaths, with estimates ranging from 40 to 80 million victims due to starvation, persecution, prison labour, and mass executions, and his government has been described as totalitarian. He has been also credited with transforming China from a semi-colony to a leading world power by ad\u001b[0m\n",
      "Thought:\u001b[32;1m\u001b[1;3m毛泽东出生于1893年12月26日，中华人民共和国成立于1949年10月1日。为了计算他在建国时的年龄，我需要用1949年减去1893年，然后再考虑他在1949年时的生日是否已经过了。\n",
      "\n",
      "计算如下：\n",
      "1949 - 1893 = 56\n",
      "\n",
      "因为1949年10月1日毛泽东的生日还没有到，所以他在建国时是56岁。\n",
      "\n",
      "Final Answer: 56岁\u001b[0m\n",
      "\n",
      "\u001b[1m> Finished chain.\u001b[0m\n"
     ]
    }
   ],
   "source": [
    "question_cn = '''毛泽东是中华人民共和国的建立者之一 \\\n",
    "            建国的时候，他几岁?  \\ \n",
    "            用中文回答我的问题,请用以下格式回答:xx岁 '''\n",
    "result_cn = agent(question_cn) "
   ]
  },
  {
   "cell_type": "code",
   "execution_count": 30,
   "id": "ccc16102",
   "metadata": {},
   "outputs": [
    {
     "data": {
      "text/plain": [
       "{'input': '毛泽东是中华人民共和国的建立者之一             建国的时候，他几岁?  \\\\ \\n            用中文回答我的问题,请用以下格式回答:xx岁 ',\n",
       " 'output': '56岁'}"
      ]
     },
     "execution_count": 30,
     "metadata": {},
     "output_type": "execute_result"
    }
   ],
   "source": [
    "result_cn"
   ]
  }
 ],
 "metadata": {
  "kernelspec": {
   "display_name": "znlh",
   "language": "python",
   "name": "python3"
  },
  "language_info": {
   "codemirror_mode": {
    "name": "ipython",
    "version": 3
   },
   "file_extension": ".py",
   "mimetype": "text/x-python",
   "name": "python",
   "nbconvert_exporter": "python",
   "pygments_lexer": "ipython3",
   "version": "3.10.14"
  }
 },
 "nbformat": 4,
 "nbformat_minor": 5
}
