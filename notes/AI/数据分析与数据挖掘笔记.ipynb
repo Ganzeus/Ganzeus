{
 "cells": [
  {
   "cell_type": "markdown",
   "id": "b4fee6c4",
   "metadata": {},
   "source": [
    "# Pandas\n",
    "### pandas简介\n",
    "\n",
    "+ 核心功能是在二维**表格**上做各种操作，如增删改、求一列数据的和、方差、中位数、平均数等\n",
    "+ 需要numpy支持\n",
    "+ 如果有openpyxl或xlrd或xlwt支持，还可以读写excel文档\n",
    "+ 最关键的类**DataFrame, 表示二维表格**"
   ]
  },
  {
   "cell_type": "code",
   "execution_count": 36,
   "id": "42c033dd",
   "metadata": {},
   "outputs": [],
   "source": [
    "import pandas as pd\n",
    "import numpy as np"
   ]
  },
  {
   "cell_type": "markdown",
   "id": "f8120b26",
   "metadata": {},
   "source": [
    "### pandas的重要类：Series\n",
    "\n",
    "+ Series是一维**表格**，每个元素带标签且有下标，兼具列表和字典的访问形式"
   ]
  },
  {
   "cell_type": "code",
   "execution_count": 12,
   "id": "45ecc00a",
   "metadata": {},
   "outputs": [
    {
     "name": "stdout",
     "output_type": "stream",
     "text": [
      "80 90 100 "
     ]
    }
   ],
   "source": [
    "s = pd.Series(data=[80, 90, 100], index=['语文', '数学', '英语'])  # data为元素，index为标签\n",
    "for x in s:         # 访问元素\n",
    "    print(x, end=' ')"
   ]
  },
  {
   "cell_type": "code",
   "execution_count": 7,
   "id": "b57f6842",
   "metadata": {},
   "outputs": [
    {
     "data": {
      "text/plain": [
       "(80, 90)"
      ]
     },
     "execution_count": 7,
     "metadata": {},
     "output_type": "execute_result"
    }
   ],
   "source": [
    "s['语文'], s[1]     # 标签和序号都可以作为下标来访问元素"
   ]
  },
  {
   "cell_type": "code",
   "execution_count": 8,
   "id": "e817bded",
   "metadata": {},
   "outputs": [
    {
     "name": "stdout",
     "output_type": "stream",
     "text": [
      "90\n",
      "100\n"
     ]
    }
   ],
   "source": [
    "print(s[0:2]['数学'])       # s[0:2]为范围[0,2)的切片（即子列表）\n",
    "print(s['数学':'英语'][1])  # 标签做切片时范围是闭区间"
   ]
  },
  {
   "cell_type": "code",
   "execution_count": 9,
   "id": "6008e58a",
   "metadata": {},
   "outputs": [
    {
     "name": "stdout",
     "output_type": "stream",
     "text": [
      "语文 数学 英语 "
     ]
    }
   ],
   "source": [
    "for i in range(len(s.index)):       # 访问标签\n",
    "    print(s.index[i], end=' ')      # 输出index成员，即标签"
   ]
  },
  {
   "cell_type": "code",
   "execution_count": 13,
   "id": "3763f5b3",
   "metadata": {},
   "outputs": [
    {
     "data": {
      "text/plain": [
       "语文     80\n",
       "英语    100\n",
       "体育    110\n",
       "dtype: int64"
      ]
     },
     "execution_count": 13,
     "metadata": {},
     "output_type": "execute_result"
    }
   ],
   "source": [
    "s['体育'] = 110       # 在尾部添加元素，标签为体育，值为110\n",
    "s.pop('数学')         # 删除标签为'数学'的元素\n",
    "s"
   ]
  },
  {
   "cell_type": "code",
   "execution_count": 17,
   "id": "f6f7b1be",
   "metadata": {},
   "outputs": [
    {
     "name": "stderr",
     "output_type": "stream",
     "text": [
      "C:\\Users\\Ganzeus\\AppData\\Local\\Temp\\ipykernel_39856\\584864130.py:1: FutureWarning: The series.append method is deprecated and will be removed from pandas in a future version. Use pandas.concat instead.\n",
      "  s2 = s.append(pd.Series(120, index=['政治']))   # 创建新列表s2且不改变s\n"
     ]
    },
    {
     "data": {
      "text/plain": [
       "(80, 120)"
      ]
     },
     "execution_count": 17,
     "metadata": {},
     "output_type": "execute_result"
    }
   ],
   "source": [
    "s2 = s.append(pd.Series(120, index=['政治']))   # 创建新列表s2且不改变s\n",
    "s2['语文'], s2['政治']"
   ]
  },
  {
   "cell_type": "code",
   "execution_count": 18,
   "id": "4ba29190",
   "metadata": {},
   "outputs": [
    {
     "data": {
      "text/plain": [
       "[80, 100, 110, 120]"
      ]
     },
     "execution_count": 18,
     "metadata": {},
     "output_type": "execute_result"
    }
   ],
   "source": [
    "list(s2)    # 转为python列表"
   ]
  },
  {
   "cell_type": "code",
   "execution_count": 19,
   "id": "4f22028d",
   "metadata": {},
   "outputs": [
    {
     "data": {
      "text/plain": [
       "(290, 80, 96.66666666666667, 100.0)"
      ]
     },
     "execution_count": 19,
     "metadata": {},
     "output_type": "execute_result"
    }
   ],
   "source": [
    "s.sum(), s.min(), s.mean(), s.median()  # 和、最小值、均值、中位数"
   ]
  },
  {
   "cell_type": "code",
   "execution_count": 20,
   "id": "1f949288",
   "metadata": {},
   "outputs": [
    {
     "data": {
      "text/plain": [
       "('体育', 2)"
      ]
     },
     "execution_count": 20,
     "metadata": {},
     "output_type": "execute_result"
    }
   ],
   "source": [
    "s.idxmax(), s.argmax()  # 最大元素标签和下标"
   ]
  },
  {
   "cell_type": "markdown",
   "id": "aacb0908",
   "metadata": {},
   "source": [
    "### DataFrame的构造和访问\n",
    "\n",
    "+ DataFrame是**带行列标签的二维表格，每一列都是一个Series**"
   ]
  },
  {
   "cell_type": "code",
   "execution_count": 24,
   "id": "f728cdd0",
   "metadata": {},
   "outputs": [
    {
     "data": {
      "text/html": [
       "<div>\n",
       "<style scoped>\n",
       "    .dataframe tbody tr th:only-of-type {\n",
       "        vertical-align: middle;\n",
       "    }\n",
       "\n",
       "    .dataframe tbody tr th {\n",
       "        vertical-align: top;\n",
       "    }\n",
       "\n",
       "    .dataframe thead th {\n",
       "        text-align: right;\n",
       "    }\n",
       "</style>\n",
       "<table border=\"1\" class=\"dataframe\">\n",
       "  <thead>\n",
       "    <tr style=\"text-align: right;\">\n",
       "      <th></th>\n",
       "      <th>性别</th>\n",
       "      <th>语文</th>\n",
       "      <th>数学</th>\n",
       "      <th>英语</th>\n",
       "    </tr>\n",
       "  </thead>\n",
       "  <tbody>\n",
       "    <tr>\n",
       "      <th>刘一哥</th>\n",
       "      <td>男</td>\n",
       "      <td>108</td>\n",
       "      <td>115</td>\n",
       "      <td>97</td>\n",
       "    </tr>\n",
       "    <tr>\n",
       "      <th>王二姐</th>\n",
       "      <td>女</td>\n",
       "      <td>115</td>\n",
       "      <td>87</td>\n",
       "      <td>105</td>\n",
       "    </tr>\n",
       "    <tr>\n",
       "      <th>张三妹</th>\n",
       "      <td>女</td>\n",
       "      <td>100</td>\n",
       "      <td>60</td>\n",
       "      <td>130</td>\n",
       "    </tr>\n",
       "    <tr>\n",
       "      <th>李四弟</th>\n",
       "      <td>男</td>\n",
       "      <td>112</td>\n",
       "      <td>80</td>\n",
       "      <td>50</td>\n",
       "    </tr>\n",
       "  </tbody>\n",
       "</table>\n",
       "</div>"
      ],
      "text/plain": [
       "       性别  语文  数学  英语\n",
       "刘一哥   男   108   115    97\n",
       "王二姐   女   115    87   105\n",
       "张三妹   女   100    60   130\n",
       "李四弟   男   112    80    50"
      ]
     },
     "execution_count": 24,
     "metadata": {},
     "output_type": "execute_result"
    }
   ],
   "source": [
    "scores = [['男', 108, 115, 97], ['女', 115, 87, 105], ['女', 100, 60, 130],\n",
    "          ['男', 112, 80, 50]]\n",
    "names = ['刘一哥', '王二姐', '张三妹', '李四弟']\n",
    "courses = ['性别', '语文', '数学', '英语']\n",
    "df = pd.DataFrame(data=scores, index=names, columns=courses)    # 数据、行标签、列标签\n",
    "df"
   ]
  },
  {
   "cell_type": "code",
   "execution_count": 25,
   "id": "fddc9da6",
   "metadata": {},
   "outputs": [
    {
     "name": "stdout",
     "output_type": "stream",
     "text": [
      "108 <class 'numpy.ndarray'>\n",
      "['刘一哥', '王二姐', '张三妹', '李四弟']\n",
      "['性别', '语文', '数学', '英语']\n"
     ]
    }
   ],
   "source": [
    "# 访问\n",
    "print(df.values[0][1], type(df.values))\n",
    "print(list(df.index))       # 行标签\n",
    "print(list(df.columns))     # 列标签"
   ]
  },
  {
   "cell_type": "code",
   "execution_count": 26,
   "id": "829bd74e",
   "metadata": {},
   "outputs": [
    {
     "name": "stdout",
     "output_type": "stream",
     "text": [
      "108 108\n",
      "108\n"
     ]
    }
   ],
   "source": [
    "s1 = df['语文']       # s1是个Series，代表‘语文’那一列\n",
    "print(s1['刘一哥'], s1[0])     # 刘一哥语文成绩\n",
    "print(df['语文']['刘一哥'])     # 列索引写在前"
   ]
  },
  {
   "cell_type": "code",
   "execution_count": 27,
   "id": "561bf55c",
   "metadata": {},
   "outputs": [
    {
     "data": {
      "text/plain": [
       "('女', 115, 87)"
      ]
     },
     "execution_count": 27,
     "metadata": {},
     "output_type": "execute_result"
    }
   ],
   "source": [
    "s2 = df.loc['王二姐']  # s2也是一个Series，代表‘王二姐’那一行\n",
    "s2['性别'], s2['语文'], s2[2]"
   ]
  },
  {
   "cell_type": "markdown",
   "id": "0b72ca85",
   "metadata": {},
   "source": [
    "### DataFrame的切片\n",
    "\n",
    "| DataFrame的切片          | |\n",
    "| ------------------------ | ------------------------- |\n",
    "| iloc[行选择器, 列选择器] | 用下标做切片              |\n",
    "| loc[行选择器, 列选择器]  | 用标签做切片              |\n",
    "+ DataFrame的切片是视图，修改视图就会修改原表格"
   ]
  },
  {
   "cell_type": "code",
   "execution_count": 28,
   "id": "1eaf3cff",
   "metadata": {},
   "outputs": [
    {
     "data": {
      "text/html": [
       "<div>\n",
       "<style scoped>\n",
       "    .dataframe tbody tr th:only-of-type {\n",
       "        vertical-align: middle;\n",
       "    }\n",
       "\n",
       "    .dataframe tbody tr th {\n",
       "        vertical-align: top;\n",
       "    }\n",
       "\n",
       "    .dataframe thead th {\n",
       "        text-align: right;\n",
       "    }\n",
       "</style>\n",
       "<table border=\"1\" class=\"dataframe\">\n",
       "  <thead>\n",
       "    <tr style=\"text-align: right;\">\n",
       "      <th></th>\n",
       "      <th>性别</th>\n",
       "      <th>语文</th>\n",
       "      <th>数学</th>\n",
       "      <th>英语</th>\n",
       "    </tr>\n",
       "  </thead>\n",
       "  <tbody>\n",
       "    <tr>\n",
       "      <th>王二姐</th>\n",
       "      <td>女</td>\n",
       "      <td>115</td>\n",
       "      <td>87</td>\n",
       "      <td>105</td>\n",
       "    </tr>\n",
       "    <tr>\n",
       "      <th>张三妹</th>\n",
       "      <td>女</td>\n",
       "      <td>100</td>\n",
       "      <td>60</td>\n",
       "      <td>130</td>\n",
       "    </tr>\n",
       "  </tbody>\n",
       "</table>\n",
       "</div>"
      ],
      "text/plain": [
       "       性别  语文  数学  英语\n",
       "王二姐   女   115    87   105\n",
       "张三妹   女   100    60   130"
      ]
     },
     "execution_count": 28,
     "metadata": {},
     "output_type": "execute_result"
    }
   ],
   "source": [
    "df2 = df.iloc[1:3]      # 行切片，选1，2两行。 列切片省略说明全取\n",
    "df2 = df.loc['王二姐':'张三妹']  # 和上一行等价\n",
    "df2"
   ]
  },
  {
   "cell_type": "code",
   "execution_count": 29,
   "id": "8a04feaf",
   "metadata": {},
   "outputs": [
    {
     "data": {
      "text/html": [
       "<div>\n",
       "<style scoped>\n",
       "    .dataframe tbody tr th:only-of-type {\n",
       "        vertical-align: middle;\n",
       "    }\n",
       "\n",
       "    .dataframe tbody tr th {\n",
       "        vertical-align: top;\n",
       "    }\n",
       "\n",
       "    .dataframe thead th {\n",
       "        text-align: right;\n",
       "    }\n",
       "</style>\n",
       "<table border=\"1\" class=\"dataframe\">\n",
       "  <thead>\n",
       "    <tr style=\"text-align: right;\">\n",
       "      <th></th>\n",
       "      <th>性别</th>\n",
       "      <th>语文</th>\n",
       "      <th>数学</th>\n",
       "    </tr>\n",
       "  </thead>\n",
       "  <tbody>\n",
       "    <tr>\n",
       "      <th>刘一哥</th>\n",
       "      <td>男</td>\n",
       "      <td>108</td>\n",
       "      <td>115</td>\n",
       "    </tr>\n",
       "    <tr>\n",
       "      <th>王二姐</th>\n",
       "      <td>女</td>\n",
       "      <td>115</td>\n",
       "      <td>87</td>\n",
       "    </tr>\n",
       "    <tr>\n",
       "      <th>张三妹</th>\n",
       "      <td>女</td>\n",
       "      <td>100</td>\n",
       "      <td>60</td>\n",
       "    </tr>\n",
       "    <tr>\n",
       "      <th>李四弟</th>\n",
       "      <td>男</td>\n",
       "      <td>112</td>\n",
       "      <td>80</td>\n",
       "    </tr>\n",
       "  </tbody>\n",
       "</table>\n",
       "</div>"
      ],
      "text/plain": [
       "       性别  语文  数学\n",
       "刘一哥   男   108   115\n",
       "王二姐   女   115    87\n",
       "张三妹   女   100    60\n",
       "李四弟   男   112    80"
      ]
     },
     "execution_count": 29,
     "metadata": {},
     "output_type": "execute_result"
    }
   ],
   "source": [
    "df3 = df.iloc[:, 0:3]   # 列切片，选0,1,2三列。 行切片省略说明全取\n",
    "df3 = df.loc[:, '性别':'数学']  # 和上一行等价\n",
    "df3"
   ]
  },
  {
   "cell_type": "code",
   "execution_count": 30,
   "id": "74914c9b",
   "metadata": {},
   "outputs": [
    {
     "data": {
      "text/html": [
       "<div>\n",
       "<style scoped>\n",
       "    .dataframe tbody tr th:only-of-type {\n",
       "        vertical-align: middle;\n",
       "    }\n",
       "\n",
       "    .dataframe tbody tr th {\n",
       "        vertical-align: top;\n",
       "    }\n",
       "\n",
       "    .dataframe thead th {\n",
       "        text-align: right;\n",
       "    }\n",
       "</style>\n",
       "<table border=\"1\" class=\"dataframe\">\n",
       "  <thead>\n",
       "    <tr style=\"text-align: right;\">\n",
       "      <th></th>\n",
       "      <th>语文</th>\n",
       "      <th>英语</th>\n",
       "    </tr>\n",
       "  </thead>\n",
       "  <tbody>\n",
       "    <tr>\n",
       "      <th>刘一哥</th>\n",
       "      <td>108</td>\n",
       "      <td>97</td>\n",
       "    </tr>\n",
       "    <tr>\n",
       "      <th>王二姐</th>\n",
       "      <td>115</td>\n",
       "      <td>105</td>\n",
       "    </tr>\n",
       "  </tbody>\n",
       "</table>\n",
       "</div>"
      ],
      "text/plain": [
       "        语文  英语\n",
       "刘一哥   108    97\n",
       "王二姐   115   105"
      ]
     },
     "execution_count": 30,
     "metadata": {},
     "output_type": "execute_result"
    }
   ],
   "source": [
    "df4 = df.iloc[:2, [1, 3]]   # 行列切片，取0，1行，1和3列\n",
    "df4 = df.loc[:'王二姐', ['语文', '英语']]  # 与上一行等价\n",
    "df4"
   ]
  },
  {
   "cell_type": "code",
   "execution_count": 31,
   "id": "b9cf7fa5",
   "metadata": {},
   "outputs": [
    {
     "data": {
      "text/html": [
       "<div>\n",
       "<style scoped>\n",
       "    .dataframe tbody tr th:only-of-type {\n",
       "        vertical-align: middle;\n",
       "    }\n",
       "\n",
       "    .dataframe tbody tr th {\n",
       "        vertical-align: top;\n",
       "    }\n",
       "\n",
       "    .dataframe thead th {\n",
       "        text-align: right;\n",
       "    }\n",
       "</style>\n",
       "<table border=\"1\" class=\"dataframe\">\n",
       "  <thead>\n",
       "    <tr style=\"text-align: right;\">\n",
       "      <th></th>\n",
       "      <th>数学</th>\n",
       "      <th>英语</th>\n",
       "    </tr>\n",
       "  </thead>\n",
       "  <tbody>\n",
       "    <tr>\n",
       "      <th>王二姐</th>\n",
       "      <td>87</td>\n",
       "      <td>105</td>\n",
       "    </tr>\n",
       "    <tr>\n",
       "      <th>李四弟</th>\n",
       "      <td>80</td>\n",
       "      <td>50</td>\n",
       "    </tr>\n",
       "  </tbody>\n",
       "</table>\n",
       "</div>"
      ],
      "text/plain": [
       "        数学  英语\n",
       "王二姐    87   105\n",
       "李四弟    80    50"
      ]
     },
     "execution_count": 31,
     "metadata": {},
     "output_type": "execute_result"
    }
   ],
   "source": [
    "df5 = df.iloc[[1, 3], 2:4]  # 1，3行；2,3列\n",
    "df5 = df.loc[['王二姐', '李四弟'], '数学':'英语']  # 与上一行等价\n",
    "df5"
   ]
  },
  {
   "cell_type": "code",
   "execution_count": 4,
   "id": "fd26be35",
   "metadata": {},
   "outputs": [
    {
     "data": {
      "text/html": [
       "<div>\n",
       "<style scoped>\n",
       "    .dataframe tbody tr th:only-of-type {\n",
       "        vertical-align: middle;\n",
       "    }\n",
       "\n",
       "    .dataframe tbody tr th {\n",
       "        vertical-align: top;\n",
       "    }\n",
       "\n",
       "    .dataframe thead th {\n",
       "        text-align: right;\n",
       "    }\n",
       "</style>\n",
       "<table border=\"1\" class=\"dataframe\">\n",
       "  <thead>\n",
       "    <tr style=\"text-align: right;\">\n",
       "      <th></th>\n",
       "      <th>var1</th>\n",
       "      <th>var2</th>\n",
       "      <th>var3</th>\n",
       "      <th>var4</th>\n",
       "    </tr>\n",
       "  </thead>\n",
       "  <tbody>\n",
       "    <tr>\n",
       "      <th>0</th>\n",
       "      <td>1.0</td>\n",
       "      <td>1</td>\n",
       "      <td>test</td>\n",
       "      <td>cons</td>\n",
       "    </tr>\n",
       "    <tr>\n",
       "      <th>1</th>\n",
       "      <td>1.0</td>\n",
       "      <td>2</td>\n",
       "      <td>train</td>\n",
       "      <td>cons</td>\n",
       "    </tr>\n",
       "    <tr>\n",
       "      <th>2</th>\n",
       "      <td>1.0</td>\n",
       "      <td>3</td>\n",
       "      <td>test</td>\n",
       "      <td>cons</td>\n",
       "    </tr>\n",
       "    <tr>\n",
       "      <th>3</th>\n",
       "      <td>1.0</td>\n",
       "      <td>4</td>\n",
       "      <td>train</td>\n",
       "      <td>cons</td>\n",
       "    </tr>\n",
       "  </tbody>\n",
       "</table>\n",
       "</div>"
      ],
      "text/plain": [
       "   var1  var2   var3  var4\n",
       "0   1.0     1   test  cons\n",
       "1   1.0     2  train  cons\n",
       "2   1.0     3   test  cons\n",
       "3   1.0     4  train  cons"
      ]
     },
     "execution_count": 4,
     "metadata": {},
     "output_type": "execute_result"
    }
   ],
   "source": [
    "df1 = pd.DataFrame(\n",
    "    {\n",
    "        'var1': 1.0,\n",
    "        'var2': [1, 2, 3, 4],\n",
    "        'var3': ['test', 'train', 'test', 'train'],\n",
    "        'var4': 'cons'\n",
    "    }\n",
    ")\n",
    "df1"
   ]
  },
  {
   "cell_type": "markdown",
   "id": "23b43426",
   "metadata": {},
   "source": [
    "### pandas读CSV（文本格式）\n",
    "+ 读：`pd.read_csv()`、`pd.read_table()`(更通用)\n",
    "+ 写：`pd.to_csv()`"
   ]
  },
  {
   "cell_type": "code",
   "execution_count": null,
   "id": "8e813092",
   "metadata": {},
   "outputs": [],
   "source": [
    "pd.read_csv(\n",
    "    filepath_or_buffer=,    # 文件路径  \n",
    "    sep=',',                # 列分隔符\n",
    "    header='infer',         # 指定数据从第几行开始读\n",
    "    names=None,             # 自定义变量名列表\n",
    "    index_col=None,         # 将会被用作索引的列名，多列时只能用序号列表\n",
    "    usecols=None,           # 指定读入哪几列，使用序号或标签名称都行\n",
    "    encoding=None,          # 编码方式（utf-8/GBK)\n",
    "    na_values=              # 指定将被读入为缺失值的数值列表\n",
    ")"
   ]
  }
 ],
 "metadata": {
  "kernelspec": {
   "display_name": "Python 3 (ipykernel)",
   "language": "python",
   "name": "python3"
  },
  "language_info": {
   "codemirror_mode": {
    "name": "ipython",
    "version": 3
   },
   "file_extension": ".py",
   "mimetype": "text/x-python",
   "name": "python",
   "nbconvert_exporter": "python",
   "pygments_lexer": "ipython3",
   "version": "3.9.13"
  }
 },
 "nbformat": 4,
 "nbformat_minor": 5
}
