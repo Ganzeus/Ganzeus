{
 "cells": [
  {
   "cell_type": "code",
   "execution_count": 1,
   "id": "e90a8a72",
   "metadata": {
    "ExecuteTime": {
     "end_time": "2023-10-12T17:43:56.207749Z",
     "start_time": "2023-10-12T17:43:47.604945Z"
    }
   },
   "outputs": [
    {
     "data": {
      "text/plain": [
       "<torch.autograd.grad_mode.set_grad_enabled at 0x1ea5210ac70>"
      ]
     },
     "execution_count": 1,
     "metadata": {},
     "output_type": "execute_result"
    }
   ],
   "source": [
    "import torch\n",
    "import torch.nn as nn\n",
    "import torch.nn.functional as F\n",
    "import torch.optim as optim\n",
    "\n",
    "import torchvision\n",
    "import torchvision.transforms as transforms\n",
    "\n",
    "torch.set_printoptions(linewidth=120)\n",
    "torch.set_grad_enabled(True)      # Already on by default"
   ]
  },
  {
   "cell_type": "code",
   "execution_count": 2,
   "id": "e2b7e032",
   "metadata": {
    "ExecuteTime": {
     "end_time": "2023-10-12T17:44:08.948797Z",
     "start_time": "2023-10-12T17:44:08.777736Z"
    }
   },
   "outputs": [],
   "source": [
    "def get_num_correct(preds, labels):       # 预测正确的数量\n",
    "    return preds.argmax(dim=1).eq(labels).sum().item()\n",
    "\n",
    "class Network(nn.Module):\n",
    "    def __init__(self):\n",
    "        super(Network, self).__init__()\n",
    "        self.conv1 = nn.Conv2d(in_channels=1, out_channels=6, kernel_size=5)\n",
    "        self.conv2 = nn.Conv2d(in_channels=6, out_channels=12, kernel_size=5)\n",
    "        \n",
    "        self.fc1 = nn.Linear(in_features=12*4*4, out_features=120)     # Linear = fully connected(fc) = dense\n",
    "        self.fc2 = nn.Linear(in_features=120, out_features=60)\n",
    "        self.out = nn.Linear(in_features=60, out_features=10)\n",
    "        \n",
    "    def forward(self, t):\n",
    "        # (1) input layer\n",
    "        t = t\n",
    "        \n",
    "        # (2) hidden conv layer\n",
    "        t = self.conv1(t)\n",
    "        t = F.relu(t)                   # 卷积层中不包含激活函数，需要手动添加\n",
    "        t = F.max_pool2d(t, kernel_size=2, stride=2)     # 池化操作（没有权重的函数不能称为层）\n",
    "        \n",
    "        # (3) hidden conv layer\n",
    "        t = self.conv2(t)\n",
    "        t = F.relu(t)\n",
    "        t = F.max_pool2d(t, kernel_size=2, stride=2)\n",
    "        \n",
    "        # (4) hidden linear layer\n",
    "        t = t.reshape(-1, 12*4*4)       # 必须手动flatten\n",
    "        t = self.fc1(t)\n",
    "        t = F.relu(t)\n",
    "        \n",
    "        # (5) hidden linear layer\n",
    "        t = self.fc2(t)\n",
    "        t = F.relu(t)\n",
    "        \n",
    "        # (6) output layer\n",
    "        t = self.out(t)\n",
    "        # t = F.softmax(t, dim=1)           # 不直接在forward中用softmax，而是在训练过程中用cross-entropy损失函数计算loss，其中自带softmax\n",
    "        \n",
    "        return t\n",
    "    \n",
    "    \n",
    "train_set = torchvision.datasets.FashionMNIST(\n",
    "    root = './data/FashionMNIST',\n",
    "    train=True,\n",
    "    download=True,\n",
    "    transform=transforms.Compose([\n",
    "        transforms.ToTensor()\n",
    "    ])\n",
    ")\n",
    "train_loader = torch.utils.data.DataLoader(train_set, batch_size=100)"
   ]
  },
  {
   "cell_type": "markdown",
   "id": "d1aebbee",
   "metadata": {},
   "source": [
    "## Training with one batch"
   ]
  },
  {
   "cell_type": "code",
   "execution_count": 6,
   "id": "aed64a1e",
   "metadata": {
    "ExecuteTime": {
     "end_time": "2023-10-01T08:16:35.869203Z",
     "start_time": "2023-10-01T08:16:35.833730Z"
    }
   },
   "outputs": [
    {
     "name": "stdout",
     "output_type": "stream",
     "text": [
      "loss1: 2.308131456375122\n",
      "loss2: 2.289236068725586\n"
     ]
    }
   ],
   "source": [
    "network = Network()\n",
    "\n",
    "optimizer = optim.Adam(network.parameters(), lr=0.01)   # 优化器使用Adam\n",
    "\n",
    "batch = next(iter(train_loader))     # 取得一个batch的数据\n",
    "images, labels = batch\n",
    "\n",
    "preds = network(images)     # Pass batch\n",
    "loss = F.cross_entropy(preds, labels)   # Calculate loss\n",
    "\n",
    "loss.backward()    # Calculate gradients\n",
    "optimizer.step()   # Update weights\n",
    "\n",
    "# ----------------------------------------------\n",
    "\n",
    "print('loss1:', loss.item())\n",
    "preds = network(images)\n",
    "loss = F.cross_entropy(preds, labels)\n",
    "print('loss2:', loss.item())"
   ]
  },
  {
   "cell_type": "markdown",
   "id": "4d915556",
   "metadata": {},
   "source": [
    "## Training with all batchs: A single epoch"
   ]
  },
  {
   "cell_type": "code",
   "execution_count": 7,
   "id": "14e40425",
   "metadata": {
    "ExecuteTime": {
     "end_time": "2023-10-01T08:25:38.292840Z",
     "start_time": "2023-10-01T08:25:28.878605Z"
    }
   },
   "outputs": [
    {
     "name": "stdout",
     "output_type": "stream",
     "text": [
      "epoch: 0 total_correct: 47034 loss: 348.50029477477074\n"
     ]
    }
   ],
   "source": [
    "network = Network()\n",
    "\n",
    "optimizer = optim.Adam(network.parameters(), lr=0.01)   # 优化器使用Adam\n",
    "\n",
    "total_loss = 0\n",
    "total_correct = 0\n",
    "\n",
    "for batch in train_loader:  # 通过循环得到所有batch，每层循环里就是一个batch的训练过程\n",
    "    images, labels = batch   # get batch\n",
    "    \n",
    "    preds = network(images)  # pass batch\n",
    "    loss = F.cross_entropy(preds, labels)  # calculate loss\n",
    "    \n",
    "    optimizer.zero_grad()    # 计算梯度之前要确保当前没有梯度值（PyTorch会自动累加计算过的梯度）\n",
    "    loss.backward()     # calculate gradients\n",
    "    optimizer.step()    # update weights\n",
    "    \n",
    "    total_loss += loss.item()\n",
    "    total_correct += get_num_correct(preds, labels)\n",
    "    \n",
    "print(\"epoch:\", 0, \"total_correct:\", total_correct, \"loss:\", total_loss)"
   ]
  },
  {
   "cell_type": "code",
   "execution_count": 8,
   "id": "ec7adc4c",
   "metadata": {
    "ExecuteTime": {
     "end_time": "2023-10-01T08:26:30.790371Z",
     "start_time": "2023-10-01T08:26:30.776315Z"
    }
   },
   "outputs": [
    {
     "data": {
      "text/plain": [
       "0.7839"
      ]
     },
     "execution_count": 8,
     "metadata": {},
     "output_type": "execute_result"
    }
   ],
   "source": [
    "total_correct / len(train_set)"
   ]
  },
  {
   "cell_type": "markdown",
   "id": "86a6c362",
   "metadata": {},
   "source": [
    "## Training with multiple epochs: The complete training loop"
   ]
  },
  {
   "cell_type": "code",
   "execution_count": 3,
   "id": "f64f5c8a",
   "metadata": {
    "ExecuteTime": {
     "end_time": "2023-10-12T17:54:17.450802Z",
     "start_time": "2023-10-12T17:44:12.496613Z"
    }
   },
   "outputs": [
    {
     "name": "stdout",
     "output_type": "stream",
     "text": [
      "epoch: 0 total_correct: 47233 loss: 338.15183044970036\n",
      "epoch: 1 total_correct: 51757 loss: 225.80468349158764\n",
      "epoch: 2 total_correct: 52330 loss: 207.80576203763485\n",
      "epoch: 3 total_correct: 52687 loss: 196.08683858811855\n",
      "epoch: 4 total_correct: 52933 loss: 190.50400619208813\n"
     ]
    }
   ],
   "source": [
    "network = Network()\n",
    "\n",
    "optimizer = optim.Adam(network.parameters(), lr=0.01)   # 优化器使用Adam\n",
    "\n",
    "for epoch in range(5):\n",
    "    total_loss = 0\n",
    "    total_correct = 0\n",
    "    for batch in train_loader:  # get batch \n",
    "        images, labels = batch\n",
    "\n",
    "        preds = network(images)  # pass batch\n",
    "        loss = F.cross_entropy(preds, labels)  # calculate loss\n",
    "\n",
    "        optimizer.zero_grad()    # 计算梯度之前要确保当前没有梯度值（PyTorch会自动累加计算过的梯度）\n",
    "        loss.backward()     # calculate gradients\n",
    "        optimizer.step()    # update weights\n",
    "\n",
    "        total_loss += loss.item()\n",
    "        total_correct += get_num_correct(preds, labels)\n",
    "\n",
    "    print(\"epoch:\", epoch, \"total_correct:\", total_correct, \"loss:\", total_loss)"
   ]
  },
  {
   "cell_type": "code",
   "execution_count": 10,
   "id": "63109b48",
   "metadata": {
    "ExecuteTime": {
     "end_time": "2023-10-01T08:38:09.460023Z",
     "start_time": "2023-10-01T08:38:09.445872Z"
    }
   },
   "outputs": [
    {
     "data": {
      "text/plain": [
       "0.8681"
      ]
     },
     "execution_count": 10,
     "metadata": {},
     "output_type": "execute_result"
    }
   ],
   "source": [
    "total_correct / len(train_set)"
   ]
  },
  {
   "cell_type": "markdown",
   "id": "f0c36d96",
   "metadata": {},
   "source": [
    "## Getting predictions for the entire training set"
   ]
  },
  {
   "cell_type": "code",
   "execution_count": 4,
   "id": "7ad758a6",
   "metadata": {
    "ExecuteTime": {
     "end_time": "2023-10-12T17:59:27.965241Z",
     "start_time": "2023-10-12T17:59:27.945267Z"
    }
   },
   "outputs": [],
   "source": [
    "def get_all_preds(model, loader):\n",
    "    all_preds = torch.tensor([])\n",
    "    for batch in loader:              # 按batch进行处理\n",
    "        images, labels = batch        # 提取图像和标签\n",
    "        \n",
    "        preds = model(images)         # 得到当前batch的预测标签\n",
    "        all_preds = torch.cat(        # 将每批预测标签添加进去\n",
    "            (all_preds, preds),\n",
    "            dim=0)\n",
    "        \n",
    "    return all_preds"
   ]
  },
  {
   "cell_type": "code",
   "execution_count": 5,
   "id": "afcbdddc",
   "metadata": {
    "ExecuteTime": {
     "end_time": "2023-10-12T18:00:00.615621Z",
     "start_time": "2023-10-12T17:59:33.427234Z"
    }
   },
   "outputs": [],
   "source": [
    "with torch.no_grad():         # 关闭梯度追踪\n",
    "    prediction_loader = torch.utils.data.DataLoader(train_set, batch_size=10000)\n",
    "    train_preds = get_all_preds(network, prediction_loader)"
   ]
  },
  {
   "cell_type": "code",
   "execution_count": 6,
   "id": "090d9083",
   "metadata": {
    "ExecuteTime": {
     "end_time": "2023-10-12T18:00:00.675477Z",
     "start_time": "2023-10-12T18:00:00.621896Z"
    }
   },
   "outputs": [
    {
     "name": "stdout",
     "output_type": "stream",
     "text": [
      "total correct: 52316\n",
      "accuracy: 0.8719333333333333\n"
     ]
    }
   ],
   "source": [
    "preds_correct = get_num_correct(train_preds, train_set.targets)\n",
    "\n",
    "print(\"total correct:\", preds_correct)\n",
    "print(\"accuracy:\", preds_correct / len(train_set))"
   ]
  },
  {
   "cell_type": "markdown",
   "id": "9b6f3803",
   "metadata": {},
   "source": [
    "## Building a confusion matrix"
   ]
  },
  {
   "cell_type": "code",
   "execution_count": 7,
   "id": "9e068c8f",
   "metadata": {
    "ExecuteTime": {
     "end_time": "2023-10-12T18:00:12.738937Z",
     "start_time": "2023-10-12T18:00:12.728368Z"
    }
   },
   "outputs": [
    {
     "data": {
      "text/plain": [
       "tensor([9, 0, 0,  ..., 3, 0, 5])"
      ]
     },
     "execution_count": 7,
     "metadata": {},
     "output_type": "execute_result"
    }
   ],
   "source": [
    "train_set.targets"
   ]
  },
  {
   "cell_type": "code",
   "execution_count": 8,
   "id": "f62a35f9",
   "metadata": {
    "ExecuteTime": {
     "end_time": "2023-10-12T18:00:14.975291Z",
     "start_time": "2023-10-12T18:00:14.955671Z"
    }
   },
   "outputs": [
    {
     "data": {
      "text/plain": [
       "tensor([9, 0, 3,  ..., 3, 0, 5])"
      ]
     },
     "execution_count": 8,
     "metadata": {},
     "output_type": "execute_result"
    }
   ],
   "source": [
    "train_preds.argmax(dim=1)"
   ]
  },
  {
   "cell_type": "code",
   "execution_count": 9,
   "id": "9db95af4",
   "metadata": {
    "ExecuteTime": {
     "end_time": "2023-10-12T18:00:17.175066Z",
     "start_time": "2023-10-12T18:00:17.138205Z"
    }
   },
   "outputs": [
    {
     "data": {
      "text/plain": [
       "torch.Size([60000, 2])"
      ]
     },
     "execution_count": 9,
     "metadata": {},
     "output_type": "execute_result"
    }
   ],
   "source": [
    "stacked = torch.stack((train_set.targets, train_preds.argmax(dim=1)),dim=1)\n",
    "# 真实标签与预测标签对应元素堆叠，称为一对\n",
    "stacked.shape"
   ]
  },
  {
   "cell_type": "code",
   "execution_count": 10,
   "id": "3bf8a2c3",
   "metadata": {
    "ExecuteTime": {
     "end_time": "2023-10-12T18:00:19.735140Z",
     "start_time": "2023-10-12T18:00:19.717960Z"
    }
   },
   "outputs": [
    {
     "data": {
      "text/plain": [
       "tensor([[9, 9],\n",
       "        [0, 0],\n",
       "        [0, 3],\n",
       "        ...,\n",
       "        [3, 3],\n",
       "        [0, 0],\n",
       "        [5, 5]])"
      ]
     },
     "execution_count": 10,
     "metadata": {},
     "output_type": "execute_result"
    }
   ],
   "source": [
    "stacked"
   ]
  },
  {
   "cell_type": "code",
   "execution_count": 13,
   "id": "a8ad8897",
   "metadata": {
    "ExecuteTime": {
     "end_time": "2023-10-12T18:00:49.818748Z",
     "start_time": "2023-10-12T18:00:49.809176Z"
    }
   },
   "outputs": [
    {
     "data": {
      "text/plain": [
       "(tensor([9, 9]), [9, 9])"
      ]
     },
     "execution_count": 13,
     "metadata": {},
     "output_type": "execute_result"
    }
   ],
   "source": [
    "stacked[0], stacked[0].tolist()"
   ]
  },
  {
   "cell_type": "code",
   "execution_count": 18,
   "id": "d43866e2",
   "metadata": {
    "ExecuteTime": {
     "end_time": "2023-10-12T18:01:37.865631Z",
     "start_time": "2023-10-12T18:01:33.902571Z"
    }
   },
   "outputs": [],
   "source": [
    "# 构造混淆矩阵\n",
    "cmt = torch.zeros(10, 10, dtype=torch.int64)\n",
    "for pair in stacked:        # 对于每对标签\n",
    "    j, k = pair.tolist()    # j, k为行列\n",
    "    cmt[j, k] += 1          # 对应格子的元素+1"
   ]
  },
  {
   "cell_type": "code",
   "execution_count": 19,
   "id": "033a372d",
   "metadata": {
    "ExecuteTime": {
     "end_time": "2023-10-12T18:01:39.364452Z",
     "start_time": "2023-10-12T18:01:39.354212Z"
    }
   },
   "outputs": [
    {
     "data": {
      "text/plain": [
       "tensor([[5520,    3,   84,  134,   17,    4,  162,    0,   76,    0],\n",
       "        [  34, 5775,    2,  152,   19,    1,    7,    0,   10,    0],\n",
       "        [ 122,    1, 4694,   80,  889,    1,  153,    0,   60,    0],\n",
       "        [ 236,    6,   12, 5468,  228,    0,   33,    1,   16,    0],\n",
       "        [  30,    1,  294,  179, 5336,    0,  118,    0,   42,    0],\n",
       "        [   1,    0,    0,    1,    0, 5576,    0,  287,   11,  124],\n",
       "        [1640,    4,  768,  132,  890,    0, 2455,    0,  111,    0],\n",
       "        [   0,    0,    0,    0,    0,   16,    0, 5806,    8,  170],\n",
       "        [  21,    0,    6,   22,   23,    7,   17,    7, 5894,    3],\n",
       "        [   0,    0,    0,    0,    0,    9,    0,  195,    4, 5792]])"
      ]
     },
     "execution_count": 19,
     "metadata": {},
     "output_type": "execute_result"
    }
   ],
   "source": [
    "cmt"
   ]
  },
  {
   "cell_type": "markdown",
   "id": "6d75b7c9",
   "metadata": {},
   "source": [
    "## Plotting a confusion matrix"
   ]
  },
  {
   "cell_type": "code",
   "execution_count": 26,
   "id": "25e667a4",
   "metadata": {
    "ExecuteTime": {
     "end_time": "2023-10-12T18:23:22.514331Z",
     "start_time": "2023-10-12T18:23:22.475995Z"
    }
   },
   "outputs": [],
   "source": [
    "import matplotlib.pyplot as plt\n",
    "\n",
    "from sklearn.metrics import confusion_matrix\n",
    "from resources.plotcm import plot_confusion_matrix"
   ]
  },
  {
   "cell_type": "code",
   "execution_count": 22,
   "id": "de279b6f",
   "metadata": {
    "ExecuteTime": {
     "end_time": "2023-10-12T18:05:05.256880Z",
     "start_time": "2023-10-12T18:05:05.220246Z"
    }
   },
   "outputs": [
    {
     "name": "stdout",
     "output_type": "stream",
     "text": [
      "<class 'numpy.ndarray'>\n"
     ]
    },
    {
     "data": {
      "text/plain": [
       "array([[5520,    3,   84,  134,   17,    4,  162,    0,   76,    0],\n",
       "       [  34, 5775,    2,  152,   19,    1,    7,    0,   10,    0],\n",
       "       [ 122,    1, 4694,   80,  889,    1,  153,    0,   60,    0],\n",
       "       [ 236,    6,   12, 5468,  228,    0,   33,    1,   16,    0],\n",
       "       [  30,    1,  294,  179, 5336,    0,  118,    0,   42,    0],\n",
       "       [   1,    0,    0,    1,    0, 5576,    0,  287,   11,  124],\n",
       "       [1640,    4,  768,  132,  890,    0, 2455,    0,  111,    0],\n",
       "       [   0,    0,    0,    0,    0,   16,    0, 5806,    8,  170],\n",
       "       [  21,    0,    6,   22,   23,    7,   17,    7, 5894,    3],\n",
       "       [   0,    0,    0,    0,    0,    9,    0,  195,    4, 5792]],\n",
       "      dtype=int64)"
      ]
     },
     "execution_count": 22,
     "metadata": {},
     "output_type": "execute_result"
    }
   ],
   "source": [
    "# sklearn库中的confusion_matrix函数可以直接构建混淆矩阵，不需要手动构建\n",
    "cm = confusion_matrix(train_set.targets, train_preds.argmax(dim=1))\n",
    "print(type(cm))\n",
    "cm"
   ]
  },
  {
   "cell_type": "code",
   "execution_count": 27,
   "id": "38503c1a",
   "metadata": {
    "ExecuteTime": {
     "end_time": "2023-10-12T18:23:27.118635Z",
     "start_time": "2023-10-12T18:23:25.215128Z"
    }
   },
   "outputs": [
    {
     "name": "stdout",
     "output_type": "stream",
     "text": [
      "Confusion matrix, without normalization\n",
      "[[5520    3   84  134   17    4  162    0   76    0]\n",
      " [  34 5775    2  152   19    1    7    0   10    0]\n",
      " [ 122    1 4694   80  889    1  153    0   60    0]\n",
      " [ 236    6   12 5468  228    0   33    1   16    0]\n",
      " [  30    1  294  179 5336    0  118    0   42    0]\n",
      " [   1    0    0    1    0 5576    0  287   11  124]\n",
      " [1640    4  768  132  890    0 2455    0  111    0]\n",
      " [   0    0    0    0    0   16    0 5806    8  170]\n",
      " [  21    0    6   22   23    7   17    7 5894    3]\n",
      " [   0    0    0    0    0    9    0  195    4 5792]]\n"
     ]
    },
    {
     "data": {
      "image/png": "[encoded data removed]",
      "text/plain": [
       "<Figure size 1000x1000 with 2 Axes>"
      ]
     },
     "metadata": {},
     "output_type": "display_data"
    }
   ],
   "source": [
    "names = (\"T-shirt/top\", \"Trouser\", \"PUllover\", \"Dress\", \"Coat\", \"Sandal\", \"Shirt\", \"Sneaker\", \"Bag\", \"Ankle boot\")\n",
    "plt.figure(figsize=(10, 10))\n",
    "plot_confusion_matrix(cm, names)"
   ]
  },
  {
   "cell_type": "code",
   "execution_count": null,
   "id": "b5f63021",
   "metadata": {},
   "outputs": [],
   "source": []
  }
 ],
 "metadata": {
  "kernelspec": {
   "display_name": "Python 3 (ipykernel)",
   "language": "python",
   "name": "python3"
  },
  "language_info": {
   "codemirror_mode": {
    "name": "ipython",
    "version": 3
   },
   "file_extension": ".py",
   "mimetype": "text/x-python",
   "name": "python",
   "nbconvert_exporter": "python",
   "pygments_lexer": "ipython3",
   "version": "3.9.13"
  },
  "toc": {
   "base_numbering": 1,
   "nav_menu": {},
   "number_sections": true,
   "sideBar": true,
   "skip_h1_title": false,
   "title_cell": "Table of Contents",
   "title_sidebar": "Contents",
   "toc_cell": false,
   "toc_position": {},
   "toc_section_display": true,
   "toc_window_display": false
  }
 },
 "nbformat": 4,
 "nbformat_minor": 5
}
