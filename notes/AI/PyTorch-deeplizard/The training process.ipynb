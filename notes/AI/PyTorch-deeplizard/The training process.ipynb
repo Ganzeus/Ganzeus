{
 "cells": [
  {
   "cell_type": "code",
   "execution_count": 2,
   "id": "e25a7000",
   "metadata": {
    "ExecuteTime": {
     "end_time": "2023-10-01T07:13:09.697385Z",
     "start_time": "2023-10-01T07:13:08.173750Z"
    }
   },
   "outputs": [
    {
     "data": {
      "text/plain": [
       "<torch.autograd.grad_mode.set_grad_enabled at 0x21b1dfe9ee0>"
      ]
     },
     "execution_count": 2,
     "metadata": {},
     "output_type": "execute_result"
    }
   ],
   "source": [
    "import torch\n",
    "import torch.nn as nn\n",
    "import torch.nn.functional as F\n",
    "import torch.optim as optim\n",
    "\n",
    "import torchvision\n",
    "import torchvision.transforms as transforms\n",
    "\n",
    "torch.set_printoptions(linewidth=120)\n",
    "torch.set_grad_enabled(True)      # Already on by default"
   ]
  },
  {
   "cell_type": "code",
   "execution_count": 3,
   "id": "48dfe5eb",
   "metadata": {
    "ExecuteTime": {
     "end_time": "2023-10-01T07:13:09.720188Z",
     "start_time": "2023-10-01T07:13:09.698695Z"
    }
   },
   "outputs": [
    {
     "name": "stdout",
     "output_type": "stream",
     "text": [
      "1.13.1\n",
      "0.14.1\n"
     ]
    }
   ],
   "source": [
    "print(torch.__version__)\n",
    "print(torchvision.__version__)"
   ]
  },
  {
   "cell_type": "code",
   "execution_count": 4,
   "id": "691800aa",
   "metadata": {
    "ExecuteTime": {
     "end_time": "2023-10-01T07:13:09.736947Z",
     "start_time": "2023-10-01T07:13:09.720750Z"
    }
   },
   "outputs": [],
   "source": [
    "def get_num_correct(preds, labels):       # 预测正确的数量\n",
    "    return preds.argmax(dim=1).eq(labels).sum().item()"
   ]
  },
  {
   "cell_type": "code",
   "execution_count": 5,
   "id": "87d424d0",
   "metadata": {
    "ExecuteTime": {
     "end_time": "2023-10-01T07:13:09.870548Z",
     "start_time": "2023-10-01T07:13:09.856962Z"
    }
   },
   "outputs": [],
   "source": [
    "class Network(nn.Module):\n",
    "    def __init__(self):\n",
    "        super(Network, self).__init__()\n",
    "        self.conv1 = nn.Conv2d(in_channels=1, out_channels=6, kernel_size=5)\n",
    "        self.conv2 = nn.Conv2d(in_channels=6, out_channels=12, kernel_size=5)\n",
    "        \n",
    "        self.fc1 = nn.Linear(in_features=12*4*4, out_features=120)     # Linear = fully connected(fc) = dense\n",
    "        self.fc2 = nn.Linear(in_features=120, out_features=60)\n",
    "        self.out = nn.Linear(in_features=60, out_features=10)\n",
    "        \n",
    "    def forward(self, t):\n",
    "        # (1) input layer\n",
    "        t = t\n",
    "        \n",
    "        # (2) hidden conv layer\n",
    "        t = self.conv1(t)\n",
    "        t = F.relu(t)                   # 卷积层中不包含激活函数，需要手动添加\n",
    "        t = F.max_pool2d(t, kernel_size=2, stride=2)     # 池化操作（没有权重的函数不能称为层）\n",
    "        \n",
    "        # (3) hidden conv layer\n",
    "        t = self.conv2(t)\n",
    "        t = F.relu(t)\n",
    "        t = F.max_pool2d(t, kernel_size=2, stride=2)\n",
    "        \n",
    "        # (4) hidden linear layer\n",
    "        t = t.reshape(-1, 12*4*4)       # 必须手动flatten\n",
    "        t = self.fc1(t)\n",
    "        t = F.relu(t)\n",
    "        \n",
    "        # (5) hidden linear layer\n",
    "        t = self.fc2(t)\n",
    "        t = F.relu(t)\n",
    "        \n",
    "        # (6) output layer\n",
    "        t = self.out(t)\n",
    "        # t = F.softmax(t, dim=1)           # 不直接在forward中用softmax，而是在训练过程中用cross-entropy损失函数计算loss，其中自带softmax\n",
    "        \n",
    "        return t"
   ]
  },
  {
   "cell_type": "code",
   "execution_count": 6,
   "id": "32150fc3",
   "metadata": {
    "ExecuteTime": {
     "end_time": "2023-10-01T07:13:10.819129Z",
     "start_time": "2023-10-01T07:13:10.804517Z"
    }
   },
   "outputs": [],
   "source": [
    "network = Network()"
   ]
  },
  {
   "cell_type": "code",
   "execution_count": 7,
   "id": "d303daa4",
   "metadata": {
    "ExecuteTime": {
     "end_time": "2023-10-01T07:13:11.462489Z",
     "start_time": "2023-10-01T07:13:11.416208Z"
    }
   },
   "outputs": [],
   "source": [
    "train_set = torchvision.datasets.FashionMNIST(\n",
    "    root = './data/FashionMNIST',\n",
    "    train=True,\n",
    "    download=True,\n",
    "    transform=transforms.Compose([\n",
    "        transforms.ToTensor()\n",
    "    ])\n",
    ")"
   ]
  },
  {
   "cell_type": "code",
   "execution_count": 8,
   "id": "4ae60b00",
   "metadata": {
    "ExecuteTime": {
     "end_time": "2023-10-01T07:13:12.187261Z",
     "start_time": "2023-10-01T07:13:12.159289Z"
    }
   },
   "outputs": [],
   "source": [
    "train_loader = torch.utils.data.DataLoader(train_set, batch_size=100)\n",
    "batch = next(iter(train_loader))\n",
    "images, labels = batch"
   ]
  },
  {
   "cell_type": "code",
   "execution_count": 21,
   "id": "51bee9b8",
   "metadata": {
    "ExecuteTime": {
     "end_time": "2023-10-01T07:32:07.566570Z",
     "start_time": "2023-10-01T07:32:07.562181Z"
    }
   },
   "outputs": [
    {
     "data": {
      "text/plain": [
       "torch.Size([100, 1, 28, 28])"
      ]
     },
     "execution_count": 21,
     "metadata": {},
     "output_type": "execute_result"
    }
   ],
   "source": [
    "images.shape"
   ]
  },
  {
   "cell_type": "code",
   "execution_count": 22,
   "id": "4a1b17a0",
   "metadata": {
    "ExecuteTime": {
     "end_time": "2023-10-01T07:32:23.195447Z",
     "start_time": "2023-10-01T07:32:23.177122Z"
    }
   },
   "outputs": [
    {
     "data": {
      "text/plain": [
       "torch.Size([100])"
      ]
     },
     "execution_count": 22,
     "metadata": {},
     "output_type": "execute_result"
    }
   ],
   "source": [
    "labels.shape"
   ]
  },
  {
   "cell_type": "markdown",
   "id": "d60f74af",
   "metadata": {},
   "source": [
    "## Calculating the loss"
   ]
  },
  {
   "cell_type": "code",
   "execution_count": 9,
   "id": "107ff569",
   "metadata": {
    "ExecuteTime": {
     "end_time": "2023-10-01T07:13:16.803763Z",
     "start_time": "2023-10-01T07:13:16.786704Z"
    }
   },
   "outputs": [
    {
     "data": {
      "text/plain": [
       "2.302035093307495"
      ]
     },
     "execution_count": 9,
     "metadata": {},
     "output_type": "execute_result"
    }
   ],
   "source": [
    "preds = network(images)\n",
    "loss = F.cross_entropy(preds, labels)\n",
    "loss.item()"
   ]
  },
  {
   "cell_type": "code",
   "execution_count": 23,
   "id": "8ac4bc1f",
   "metadata": {
    "ExecuteTime": {
     "end_time": "2023-10-01T07:33:30.080059Z",
     "start_time": "2023-10-01T07:33:30.073748Z"
    }
   },
   "outputs": [
    {
     "data": {
      "text/plain": [
       "torch.Size([100, 10])"
      ]
     },
     "execution_count": 23,
     "metadata": {},
     "output_type": "execute_result"
    }
   ],
   "source": [
    "preds.shape"
   ]
  },
  {
   "cell_type": "markdown",
   "id": "99d90083",
   "metadata": {},
   "source": [
    "## Calculating the gradients"
   ]
  },
  {
   "cell_type": "code",
   "execution_count": 10,
   "id": "e852d6e2",
   "metadata": {
    "ExecuteTime": {
     "end_time": "2023-10-01T07:14:29.672721Z",
     "start_time": "2023-10-01T07:14:29.663201Z"
    }
   },
   "outputs": [
    {
     "name": "stdout",
     "output_type": "stream",
     "text": [
      "None\n"
     ]
    }
   ],
   "source": [
    "print(network.conv1.weight.grad)     # 暂时没有梯度"
   ]
  },
  {
   "cell_type": "code",
   "execution_count": 11,
   "id": "13712d86",
   "metadata": {
    "ExecuteTime": {
     "end_time": "2023-10-01T07:14:48.593603Z",
     "start_time": "2023-10-01T07:14:48.575189Z"
    }
   },
   "outputs": [],
   "source": [
    "loss.backward()      # 计算梯度"
   ]
  },
  {
   "cell_type": "code",
   "execution_count": 12,
   "id": "8b2bb4bd",
   "metadata": {
    "ExecuteTime": {
     "end_time": "2023-10-01T07:14:58.412557Z",
     "start_time": "2023-10-01T07:14:58.401476Z"
    }
   },
   "outputs": [
    {
     "data": {
      "text/plain": [
       "torch.Size([6, 1, 5, 5])"
      ]
     },
     "execution_count": 12,
     "metadata": {},
     "output_type": "execute_result"
    }
   ],
   "source": [
    "network.conv1.weight.grad.shape      # 反向传播后就有了梯度"
   ]
  },
  {
   "cell_type": "markdown",
   "id": "06b5e425",
   "metadata": {},
   "source": [
    "## Update the weights"
   ]
  },
  {
   "cell_type": "code",
   "execution_count": 13,
   "id": "cc8b6ff4",
   "metadata": {
    "ExecuteTime": {
     "end_time": "2023-10-01T07:27:00.490540Z",
     "start_time": "2023-10-01T07:27:00.478469Z"
    }
   },
   "outputs": [],
   "source": [
    "optimizer = optim.Adam(network.parameters(), lr=0.01)   # 优化器使用Adam"
   ]
  },
  {
   "cell_type": "code",
   "execution_count": 14,
   "id": "88dce5cc",
   "metadata": {
    "ExecuteTime": {
     "end_time": "2023-10-01T07:27:04.917805Z",
     "start_time": "2023-10-01T07:27:04.908796Z"
    }
   },
   "outputs": [
    {
     "data": {
      "text/plain": [
       "2.302035093307495"
      ]
     },
     "execution_count": 14,
     "metadata": {},
     "output_type": "execute_result"
    }
   ],
   "source": [
    "loss.item()"
   ]
  },
  {
   "cell_type": "code",
   "execution_count": 15,
   "id": "9fe55168",
   "metadata": {
    "ExecuteTime": {
     "end_time": "2023-10-01T07:27:22.618727Z",
     "start_time": "2023-10-01T07:27:22.610896Z"
    }
   },
   "outputs": [
    {
     "data": {
      "text/plain": [
       "9"
      ]
     },
     "execution_count": 15,
     "metadata": {},
     "output_type": "execute_result"
    }
   ],
   "source": [
    "get_num_correct(preds, labels)"
   ]
  },
  {
   "cell_type": "code",
   "execution_count": 16,
   "id": "dac1a916",
   "metadata": {
    "ExecuteTime": {
     "end_time": "2023-10-01T07:27:41.828788Z",
     "start_time": "2023-10-01T07:27:41.811709Z"
    }
   },
   "outputs": [],
   "source": [
    "optimizer.step()    # updating the weights"
   ]
  },
  {
   "cell_type": "code",
   "execution_count": 24,
   "id": "1cef5e5a",
   "metadata": {
    "ExecuteTime": {
     "end_time": "2023-10-01T07:34:22.548615Z",
     "start_time": "2023-10-01T07:34:22.537401Z"
    }
   },
   "outputs": [],
   "source": [
    "preds = network(images)\n",
    "loss = F.cross_entropy(preds, labels)"
   ]
  },
  {
   "cell_type": "code",
   "execution_count": 25,
   "id": "f83f4fe6",
   "metadata": {
    "ExecuteTime": {
     "end_time": "2023-10-01T07:34:23.394473Z",
     "start_time": "2023-10-01T07:34:23.385057Z"
    }
   },
   "outputs": [
    {
     "data": {
      "text/plain": [
       "2.2594704627990723"
      ]
     },
     "execution_count": 25,
     "metadata": {},
     "output_type": "execute_result"
    }
   ],
   "source": [
    "loss.item()"
   ]
  },
  {
   "cell_type": "code",
   "execution_count": 26,
   "id": "a91eafcf",
   "metadata": {
    "ExecuteTime": {
     "end_time": "2023-10-01T07:34:24.476922Z",
     "start_time": "2023-10-01T07:34:24.469347Z"
    }
   },
   "outputs": [
    {
     "data": {
      "text/plain": [
       "15"
      ]
     },
     "execution_count": 26,
     "metadata": {},
     "output_type": "execute_result"
    }
   ],
   "source": [
    "get_num_correct(preds, labels)"
   ]
  },
  {
   "cell_type": "markdown",
   "id": "2e136a30",
   "metadata": {},
   "source": [
    "## 一个batch的训练代码"
   ]
  },
  {
   "cell_type": "code",
   "execution_count": 27,
   "id": "69f3b134",
   "metadata": {
    "ExecuteTime": {
     "end_time": "2023-10-01T07:40:13.084549Z",
     "start_time": "2023-10-01T07:40:13.056116Z"
    }
   },
   "outputs": [
    {
     "name": "stdout",
     "output_type": "stream",
     "text": [
      "loss1: 2.3067712783813477\n",
      "loss2: 2.281315565109253\n"
     ]
    }
   ],
   "source": [
    "network = Network()\n",
    "\n",
    "train_loader = torch.utils.data.DataLoader(train_set, batch_size=100)\n",
    "optimizer = optim.Adam(network.parameters(), lr=0.01)   # 优化器使用Adam\n",
    "\n",
    "batch = next(iter(train_loader))     # 取得一个batch的数据\n",
    "images, labels = batch\n",
    "\n",
    "preds = network(images)     # Pass batch\n",
    "loss = F.cross_entropy(preds, labels)   # Calculate loss\n",
    "\n",
    "loss.backward()    # Calculate gradients\n",
    "optimizer.step()   # Update weights\n",
    "\n",
    "# ----------------------------------------------\n",
    "\n",
    "print('loss1:', loss.item())\n",
    "preds = network(images)\n",
    "loss = F.cross_entropy(preds, labels)\n",
    "print('loss2:', loss.item())"
   ]
  },
  {
   "cell_type": "code",
   "execution_count": null,
   "id": "5a5c19df",
   "metadata": {},
   "outputs": [],
   "source": []
  }
 ],
 "metadata": {
  "kernelspec": {
   "display_name": "Python 3 (ipykernel)",
   "language": "python",
   "name": "python3"
  },
  "language_info": {
   "codemirror_mode": {
    "name": "ipython",
    "version": 3
   },
   "file_extension": ".py",
   "mimetype": "text/x-python",
   "name": "python",
   "nbconvert_exporter": "python",
   "pygments_lexer": "ipython3",
   "version": "3.9.13"
  },
  "toc": {
   "base_numbering": 1,
   "nav_menu": {},
   "number_sections": true,
   "sideBar": true,
   "skip_h1_title": false,
   "title_cell": "Table of Contents",
   "title_sidebar": "Contents",
   "toc_cell": false,
   "toc_position": {},
   "toc_section_display": true,
   "toc_window_display": false
  }
 },
 "nbformat": 4,
 "nbformat_minor": 5
}
