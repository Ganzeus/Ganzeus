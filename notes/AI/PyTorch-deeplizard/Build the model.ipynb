{
 "cells": [
  {
   "cell_type": "markdown",
   "id": "e56a9062",
   "metadata": {},
   "source": [
    "## Object Oriented Programming"
   ]
  },
  {
   "cell_type": "code",
   "execution_count": 1,
   "id": "41bbd0ea",
   "metadata": {
    "ExecuteTime": {
     "end_time": "2023-07-28T09:48:44.561712Z",
     "start_time": "2023-07-28T09:48:44.549973Z"
    }
   },
   "outputs": [],
   "source": [
    "class Lizard:\n",
    "    def __init__(self, name):\n",
    "        self.name = name\n",
    "        \n",
    "    def set_name(self, name):\n",
    "        self.name = name"
   ]
  },
  {
   "cell_type": "code",
   "execution_count": 2,
   "id": "f86f4d92",
   "metadata": {
    "ExecuteTime": {
     "end_time": "2023-07-28T09:48:46.383552Z",
     "start_time": "2023-07-28T09:48:46.371614Z"
    }
   },
   "outputs": [
    {
     "name": "stdout",
     "output_type": "stream",
     "text": [
      "deep\n"
     ]
    }
   ],
   "source": [
    "lizard = Lizard(\"deep\")\n",
    "print(lizard.name)"
   ]
  },
  {
   "cell_type": "code",
   "execution_count": 3,
   "id": "86cdc15c",
   "metadata": {
    "ExecuteTime": {
     "end_time": "2023-07-28T09:49:02.571352Z",
     "start_time": "2023-07-28T09:49:02.557208Z"
    }
   },
   "outputs": [
    {
     "name": "stdout",
     "output_type": "stream",
     "text": [
      "lizard\n"
     ]
    }
   ],
   "source": [
    "lizard.set_name(\"lizard\")\n",
    "print(lizard.name)"
   ]
  },
  {
   "cell_type": "markdown",
   "id": "14fedf6f",
   "metadata": {},
   "source": [
    "## Neural Network example"
   ]
  },
  {
   "cell_type": "code",
   "execution_count": 4,
   "id": "8b807936",
   "metadata": {
    "ExecuteTime": {
     "end_time": "2023-08-03T12:08:09.431479Z",
     "start_time": "2023-08-03T12:08:08.231207Z"
    }
   },
   "outputs": [
    {
     "ename": "ModuleNotFoundError",
     "evalue": "No module named 'torch'",
     "output_type": "error",
     "traceback": [
      "\u001b[1;31m---------------------------------------------------------------------------\u001b[0m",
      "\u001b[1;31mModuleNotFoundError\u001b[0m                       Traceback (most recent call last)",
      "Cell \u001b[1;32mIn[4], line 1\u001b[0m\n\u001b[1;32m----> 1\u001b[0m \u001b[38;5;28;01mimport\u001b[39;00m \u001b[38;5;21;01mtorch\u001b[39;00m\u001b[38;5;21;01m.\u001b[39;00m\u001b[38;5;21;01mnn\u001b[39;00m \u001b[38;5;28;01mas\u001b[39;00m \u001b[38;5;21;01mnn\u001b[39;00m\n",
      "\u001b[1;31mModuleNotFoundError\u001b[0m: No module named 'torch'"
     ]
    }
   ],
   "source": [
    "import torch.nn as nn"
   ]
  },
  {
   "cell_type": "code",
   "execution_count": null,
   "id": "b1326a8c",
   "metadata": {
    "ExecuteTime": {
     "end_time": "2023-07-28T10:23:46.729269Z",
     "start_time": "2023-07-28T10:23:46.714354Z"
    }
   },
   "outputs": [],
   "source": [
    "class Network(nn.Module):\n",
    "    def __init__(self):\n",
    "        super(Network, self).__init__()\n",
    "        self.layer = None\n",
    "        \n",
    "    def forward(self, t):\n",
    "        t = self.layer(t)\n",
    "        return t"
   ]
  },
  {
   "cell_type": "markdown",
   "id": "dc7d1c54",
   "metadata": {},
   "source": [
    "### CNN"
   ]
  },
  {
   "cell_type": "code",
   "execution_count": null,
   "id": "e3f5fd84",
   "metadata": {
    "ExecuteTime": {
     "end_time": "2023-07-28T10:29:29.856640Z",
     "start_time": "2023-07-28T10:29:29.841655Z"
    }
   },
   "outputs": [
    {
     "ename": "SyntaxError",
     "evalue": "positional argument follows keyword argument (2073967581.py, line 5)",
     "output_type": "error",
     "traceback": [
      "\u001b[1;36m  File \u001b[1;32m\"C:\\Users\\Ganzeus\\AppData\\Local\\Temp\\ipykernel_10548\\2073967581.py\"\u001b[1;36m, line \u001b[1;32m5\u001b[0m\n\u001b[1;33m    self.conv2 = nn.Conv2d(in_channels=6, out_channels12, kernel_size=5)\u001b[0m\n\u001b[1;37m                                                                       ^\u001b[0m\n\u001b[1;31mSyntaxError\u001b[0m\u001b[1;31m:\u001b[0m positional argument follows keyword argument\n"
     ]
    }
   ],
   "source": [
    "class Network(nn.Module):\n",
    "    def __init__(self):\n",
    "        super(Network, self).__init__()\n",
    "        self.conv1 = nn.Conv2d(in_channels=1, out_channels=6, kernel_size=5)\n",
    "        self.conv2 = nn.Conv2d(in_channels=6, out_channels=12, kernel_size=5)\n",
    "        \n",
    "        self.fc1 = nn.Linear(in_features=12*4*4, out_features=120)     # Linear = fully connected(fc) = dense\n",
    "        self.fc2 = nn.Linear(in_features=120, out_features=60)\n",
    "        self.out = nn.Linear(in_features=60, out_features=10)\n",
    "        \n",
    "    def forward(self, t):\n",
    "        t = self.layer(t)\n",
    "        return t"
   ]
  },
  {
   "cell_type": "code",
   "execution_count": null,
   "id": "b56ba521",
   "metadata": {
    "ExecuteTime": {
     "end_time": "2023-07-28T10:29:39.999144Z",
     "start_time": "2023-07-28T10:29:39.985185Z"
    }
   },
   "outputs": [],
   "source": [
    "net = Network()"
   ]
  },
  {
   "cell_type": "code",
   "execution_count": null,
   "id": "a1423f53",
   "metadata": {
    "ExecuteTime": {
     "end_time": "2023-07-28T10:29:43.485452Z",
     "start_time": "2023-07-28T10:29:43.471499Z"
    }
   },
   "outputs": [
    {
     "data": {
      "text/plain": [
       "Network()"
      ]
     },
     "execution_count": 11,
     "metadata": {},
     "output_type": "execute_result"
    }
   ],
   "source": [
    "net"
   ]
  },
  {
   "cell_type": "code",
   "execution_count": null,
   "id": "d7c20f80",
   "metadata": {
    "ExecuteTime": {
     "end_time": "2023-07-28T10:30:00.630409Z",
     "start_time": "2023-07-28T10:30:00.620428Z"
    }
   },
   "outputs": [
    {
     "name": "stdout",
     "output_type": "stream",
     "text": [
      "Network()\n"
     ]
    }
   ],
   "source": [
    "print(net)"
   ]
  },
  {
   "cell_type": "code",
   "execution_count": null,
   "id": "89a357c9",
   "metadata": {
    "ExecuteTime": {
     "end_time": "2023-08-03T12:08:11.441529Z",
     "start_time": "2023-08-03T12:08:11.415007Z"
    }
   },
   "outputs": [],
   "source": [
    "class Network(nn.Module):\n",
    "    def __init__(self):\n",
    "        super(Network, self).__init__()\n",
    "        self.conv1 = nn.Conv2d(in_channels=1, out_channels=6, kernel_size=5)\n",
    "        self.conv2 = nn.Conv2d(in_channels=6, out_channels=12, kernel_size=5)\n",
    "        \n",
    "        self.fc1 = nn.Linear(in_features=12*4*4, out_features=120)     # Linear = fully connected(fc) = dense\n",
    "        self.fc2 = nn.Linear(in_features=120, out_features=60)\n",
    "        self.out = nn.Linear(in_features=60, out_features=10)\n",
    "        \n",
    "    def forward(self, t):\n",
    "        # implement the forward pass\n",
    "        return t"
   ]
  },
  {
   "cell_type": "code",
   "execution_count": null,
   "id": "bf2bc6ed",
   "metadata": {
    "ExecuteTime": {
     "end_time": "2023-08-03T12:08:23.361141Z",
     "start_time": "2023-08-03T12:08:23.345166Z"
    }
   },
   "outputs": [],
   "source": [
    "network = Network()"
   ]
  },
  {
   "cell_type": "code",
   "execution_count": null,
   "id": "cafdf5a7",
   "metadata": {
    "ExecuteTime": {
     "end_time": "2023-08-03T12:08:30.477128Z",
     "start_time": "2023-08-03T12:08:30.466551Z"
    }
   },
   "outputs": [
    {
     "name": "stdout",
     "output_type": "stream",
     "text": [
      "Network(\n",
      "  (conv1): Conv2d(1, 6, kernel_size=(5, 5), stride=(1, 1))\n",
      "  (conv2): Conv2d(6, 12, kernel_size=(5, 5), stride=(1, 1))\n",
      "  (fc1): Linear(in_features=192, out_features=120, bias=True)\n",
      "  (fc2): Linear(in_features=120, out_features=60, bias=True)\n",
      "  (out): Linear(in_features=60, out_features=10, bias=True)\n",
      ")\n"
     ]
    }
   ],
   "source": [
    "print(network)"
   ]
  },
  {
   "cell_type": "code",
   "execution_count": null,
   "id": "55fefa09",
   "metadata": {
    "ExecuteTime": {
     "end_time": "2023-08-03T12:18:26.626878Z",
     "start_time": "2023-08-03T12:18:26.613764Z"
    }
   },
   "outputs": [
    {
     "data": {
      "text/plain": [
       "Conv2d(1, 6, kernel_size=(5, 5), stride=(1, 1))"
      ]
     },
     "execution_count": 8,
     "metadata": {},
     "output_type": "execute_result"
    }
   ],
   "source": [
    "network.conv1"
   ]
  },
  {
   "cell_type": "code",
   "execution_count": null,
   "id": "ef928c78",
   "metadata": {
    "ExecuteTime": {
     "end_time": "2023-08-03T12:18:31.714541Z",
     "start_time": "2023-08-03T12:18:31.699880Z"
    }
   },
   "outputs": [
    {
     "data": {
      "text/plain": [
       "Linear(in_features=192, out_features=120, bias=True)"
      ]
     },
     "execution_count": 9,
     "metadata": {},
     "output_type": "execute_result"
    }
   ],
   "source": [
    "network.fc1"
   ]
  },
  {
   "cell_type": "code",
   "execution_count": null,
   "id": "d2f442cf",
   "metadata": {
    "ExecuteTime": {
     "end_time": "2023-08-03T12:18:36.573714Z",
     "start_time": "2023-08-03T12:18:36.559074Z"
    }
   },
   "outputs": [
    {
     "data": {
      "text/plain": [
       "Linear(in_features=60, out_features=10, bias=True)"
      ]
     },
     "execution_count": 10,
     "metadata": {},
     "output_type": "execute_result"
    }
   ],
   "source": [
    "network.out"
   ]
  },
  {
   "cell_type": "code",
   "execution_count": null,
   "id": "b480ced9",
   "metadata": {
    "ExecuteTime": {
     "end_time": "2023-08-03T12:20:54.696730Z",
     "start_time": "2023-08-03T12:20:54.684729Z"
    }
   },
   "outputs": [
    {
     "data": {
      "text/plain": [
       "Parameter containing:\n",
       "tensor([[[[ 1.2429e-01,  5.0051e-03,  1.3083e-01,  1.9048e-01, -1.5119e-01],\n",
       "          [ 4.5708e-02,  3.2135e-02,  7.6514e-02,  1.9863e-01, -2.7948e-02],\n",
       "          [ 1.5544e-01, -2.2004e-02,  9.7023e-03, -1.0735e-01, -1.5901e-01],\n",
       "          [-1.1732e-01,  1.3671e-01, -1.2025e-01,  1.3345e-02, -5.0585e-02],\n",
       "          [-4.2812e-02, -7.0239e-02,  1.5959e-01,  1.6341e-01,  1.0769e-01]]],\n",
       "\n",
       "\n",
       "        [[[-1.3043e-01, -1.5609e-01, -3.2823e-02,  6.2831e-02,  1.8395e-01],\n",
       "          [-6.4102e-02,  1.6159e-01, -1.8309e-01,  7.3611e-02, -5.6824e-02],\n",
       "          [ 1.0045e-02, -8.7375e-02, -1.3990e-01, -1.7672e-01,  1.9012e-02],\n",
       "          [-1.9178e-01, -9.2164e-02, -1.2542e-01,  1.5310e-01, -3.6513e-02],\n",
       "          [ 1.4820e-01,  8.6259e-02,  1.9526e-01, -8.9834e-02,  1.1156e-01]]],\n",
       "\n",
       "\n",
       "        [[[-1.1659e-01,  1.5123e-01,  1.1730e-01, -1.4016e-01, -1.0931e-01],\n",
       "          [-4.6759e-02,  1.6809e-01,  8.1342e-02,  6.3480e-02,  9.5646e-02],\n",
       "          [ 5.0720e-02, -1.5473e-01,  5.9880e-03,  2.2394e-02, -7.7153e-02],\n",
       "          [ 2.2062e-02, -5.8770e-02,  1.2970e-01, -6.3864e-02, -1.0704e-01],\n",
       "          [ 6.8157e-02,  7.6600e-02, -3.8308e-03, -1.0400e-01, -1.4454e-01]]],\n",
       "\n",
       "\n",
       "        [[[-1.7080e-01,  1.4385e-01,  4.7710e-03,  8.6867e-02,  1.5548e-02],\n",
       "          [ 6.3216e-03,  1.0569e-01,  1.5504e-01,  4.2551e-03,  3.7183e-02],\n",
       "          [ 1.7685e-01, -9.6984e-02, -4.3002e-02, -6.5134e-03,  4.3461e-02],\n",
       "          [-7.6250e-02, -8.1688e-02, -8.0145e-02, -1.1988e-01,  1.7405e-01],\n",
       "          [ 7.2690e-02, -7.8967e-03, -5.8500e-02, -6.5274e-03, -4.7769e-02]]],\n",
       "\n",
       "\n",
       "        [[[ 1.6044e-01,  5.5176e-02,  7.8183e-02,  6.2515e-02, -9.3674e-02],\n",
       "          [-1.9346e-03,  1.8062e-01, -6.8091e-03,  2.1994e-02,  5.1087e-02],\n",
       "          [-5.0049e-02,  1.1043e-01, -9.3206e-03, -1.2559e-01, -1.8410e-01],\n",
       "          [ 1.7477e-01, -1.1989e-01, -5.8433e-02,  1.5953e-01,  1.5079e-01],\n",
       "          [ 2.5733e-02,  1.7891e-02, -1.0465e-02, -1.9412e-01,  1.6461e-01]]],\n",
       "\n",
       "\n",
       "        [[[ 5.4319e-03, -5.7230e-02,  1.1236e-01, -7.6668e-02,  1.1347e-02],\n",
       "          [ 1.3050e-02,  9.1185e-02, -3.6994e-02,  1.3803e-01, -1.1155e-01],\n",
       "          [-8.2014e-02,  5.4831e-02, -1.3063e-01, -1.6814e-01,  1.2141e-01],\n",
       "          [-7.6768e-02, -1.4127e-01, -1.1460e-01,  9.5763e-02,  1.9656e-01],\n",
       "          [-2.8542e-02,  4.6407e-02, -9.1059e-02, -7.8410e-05, -9.7878e-02]]]],\n",
       "       requires_grad=True)"
      ]
     },
     "execution_count": 11,
     "metadata": {},
     "output_type": "execute_result"
    }
   ],
   "source": [
    "network.conv1.weight"
   ]
  },
  {
   "cell_type": "code",
   "execution_count": null,
   "id": "7ef0bfa1",
   "metadata": {
    "ExecuteTime": {
     "end_time": "2023-08-03T12:21:20.866239Z",
     "start_time": "2023-08-03T12:21:20.853504Z"
    }
   },
   "outputs": [
    {
     "data": {
      "text/plain": [
       "Parameter containing:\n",
       "tensor([[-0.0858, -0.0465, -0.0183,  0.1056, -0.0943, -0.0145, -0.1029, -0.0064,\n",
       "         -0.1059, -0.1043,  0.1032,  0.0273, -0.0690,  0.0692,  0.1017, -0.1235,\n",
       "          0.0505, -0.0796, -0.1003, -0.0631, -0.0553,  0.0965,  0.1103,  0.0827,\n",
       "         -0.0352, -0.0893,  0.1149, -0.0677,  0.1057,  0.0424,  0.1209, -0.1287,\n",
       "         -0.0844,  0.0160,  0.0763,  0.0425,  0.0338,  0.0937, -0.0987, -0.0908,\n",
       "          0.1039, -0.1061, -0.0786,  0.0341, -0.1195,  0.1169,  0.0707, -0.0736,\n",
       "         -0.0796, -0.0266, -0.0039,  0.0217, -0.0650, -0.1118, -0.0383,  0.0751,\n",
       "         -0.0956, -0.0127, -0.0315,  0.0158],\n",
       "        [-0.0620,  0.0898,  0.0415, -0.1226, -0.0331, -0.1289,  0.0469, -0.0965,\n",
       "         -0.0740,  0.0847, -0.0310,  0.0569, -0.1246, -0.0574, -0.0592, -0.0804,\n",
       "          0.0797, -0.0997,  0.1167, -0.0740,  0.0395,  0.0555,  0.0071,  0.0054,\n",
       "          0.1246,  0.1179,  0.0345, -0.0051,  0.0655, -0.0376,  0.0360, -0.0196,\n",
       "         -0.1182,  0.1147, -0.0377,  0.1036,  0.1251, -0.1071,  0.1251,  0.1052,\n",
       "         -0.0812, -0.1097, -0.1017, -0.0667, -0.0954,  0.0853,  0.0168,  0.0790,\n",
       "          0.0022, -0.0503, -0.0303,  0.0440, -0.0310,  0.0277, -0.0311, -0.1094,\n",
       "         -0.1054,  0.1203, -0.1032, -0.1224],\n",
       "        [-0.0737,  0.0735,  0.0454,  0.0016,  0.0473,  0.0809, -0.0128, -0.0554,\n",
       "          0.0699,  0.1248, -0.0087, -0.0521, -0.0525,  0.0333,  0.1059,  0.0688,\n",
       "          0.0769,  0.0978,  0.0799,  0.0258,  0.0956,  0.1186, -0.0125,  0.0885,\n",
       "          0.0295, -0.0131, -0.0219,  0.0670, -0.1171, -0.1091,  0.0777,  0.0630,\n",
       "          0.1129, -0.1106,  0.1253,  0.0557,  0.0605,  0.0672,  0.0971, -0.0381,\n",
       "          0.0803,  0.0589, -0.0667,  0.0894,  0.1112, -0.1026,  0.0862, -0.0885,\n",
       "          0.0880, -0.0229,  0.0259,  0.0977,  0.0333, -0.0346,  0.1125,  0.0478,\n",
       "         -0.1216,  0.0028, -0.0587,  0.0847],\n",
       "        [-0.0835, -0.1065, -0.0888, -0.0442, -0.0566, -0.0627, -0.1138,  0.0356,\n",
       "          0.1051, -0.1128, -0.1091, -0.0899,  0.0117, -0.0916,  0.0926, -0.0711,\n",
       "         -0.0861, -0.0205,  0.0173,  0.0579, -0.1251,  0.1124,  0.0692, -0.0810,\n",
       "          0.0062,  0.0798, -0.0331, -0.1188, -0.1039, -0.0610, -0.1031, -0.0070,\n",
       "          0.1102,  0.0181,  0.1106,  0.0602,  0.0059,  0.0290,  0.1208,  0.0021,\n",
       "         -0.0386,  0.0806, -0.0234, -0.0326, -0.0348, -0.1004, -0.0633, -0.1094,\n",
       "          0.1112, -0.0306,  0.0759, -0.1182, -0.0845, -0.0290, -0.1276,  0.0480,\n",
       "         -0.0454, -0.0937, -0.0297,  0.1143],\n",
       "        [-0.0488, -0.0968,  0.0182,  0.1246,  0.0284,  0.0207, -0.0635,  0.1059,\n",
       "         -0.0053, -0.0557, -0.0496, -0.0796,  0.1160,  0.0621,  0.1028, -0.0821,\n",
       "         -0.1011, -0.0585,  0.0835,  0.1147, -0.0009, -0.1000, -0.1055,  0.1203,\n",
       "         -0.0677,  0.0989,  0.1110, -0.0023,  0.0896, -0.1241,  0.0260, -0.0612,\n",
       "          0.1004, -0.1040,  0.1212, -0.0739,  0.0227, -0.1091, -0.0008, -0.1141,\n",
       "          0.0426,  0.0686,  0.0243,  0.1024,  0.0278,  0.0340, -0.0817, -0.0895,\n",
       "         -0.0292, -0.1279, -0.0289,  0.1284, -0.1144, -0.1011, -0.0699,  0.0021,\n",
       "         -0.0150, -0.1093, -0.1045,  0.1097],\n",
       "        [-0.0105,  0.0851,  0.0018, -0.0519, -0.0909,  0.1096, -0.0768,  0.0228,\n",
       "          0.0131,  0.0576,  0.0023,  0.1122, -0.0531,  0.0314,  0.0988,  0.0324,\n",
       "          0.1019, -0.0846, -0.1155,  0.0733, -0.0364,  0.0933, -0.0127, -0.1161,\n",
       "         -0.1147, -0.0899, -0.0161,  0.0460, -0.1001, -0.1241,  0.0953, -0.0994,\n",
       "         -0.0729,  0.1201,  0.0692, -0.0530, -0.0573, -0.0068,  0.0354,  0.0205,\n",
       "         -0.0703,  0.0856,  0.0319,  0.1023, -0.0448,  0.0884,  0.1109,  0.0278,\n",
       "          0.0254, -0.1119, -0.0520, -0.0657, -0.0153, -0.0075,  0.0970, -0.0349,\n",
       "         -0.1172,  0.1077,  0.0516, -0.1130],\n",
       "        [ 0.1222, -0.0702, -0.0821,  0.0720, -0.1082,  0.1216,  0.0067,  0.0852,\n",
       "          0.0121,  0.0863, -0.0887, -0.0238, -0.0531,  0.0594,  0.0405, -0.0143,\n",
       "         -0.0141, -0.0460, -0.0240, -0.0425,  0.1042,  0.0441, -0.1061, -0.0496,\n",
       "          0.1107, -0.0806, -0.0843, -0.0731,  0.0270,  0.0279, -0.1273,  0.0117,\n",
       "         -0.1054,  0.0166, -0.0597, -0.1013, -0.0468, -0.0303, -0.1277,  0.0060,\n",
       "          0.1073, -0.0824, -0.0358,  0.0144,  0.1206,  0.0660,  0.0121,  0.1115,\n",
       "          0.0842,  0.1030, -0.0638, -0.1011,  0.0780, -0.0443, -0.1197, -0.0878,\n",
       "         -0.0549, -0.1126,  0.1147,  0.1040],\n",
       "        [ 0.0735, -0.0200,  0.0494, -0.0519,  0.1046,  0.0397, -0.1246, -0.0017,\n",
       "         -0.0498, -0.0945, -0.0942, -0.0851,  0.0070, -0.0395, -0.0429, -0.0036,\n",
       "         -0.0158, -0.0088, -0.0602, -0.0291,  0.0195,  0.0615,  0.0855,  0.0933,\n",
       "         -0.0020, -0.1038, -0.0873,  0.0877, -0.0031,  0.0639, -0.0901, -0.0136,\n",
       "         -0.1220, -0.0616,  0.0032,  0.1096,  0.0223,  0.0284,  0.1259,  0.0370,\n",
       "         -0.0634, -0.0867, -0.0240, -0.0587, -0.0882,  0.0844, -0.0559, -0.0968,\n",
       "         -0.0938,  0.0432, -0.0357,  0.0290, -0.0699, -0.0305,  0.0420,  0.1287,\n",
       "         -0.0580,  0.0416,  0.0552, -0.0771],\n",
       "        [ 0.0246, -0.1261,  0.0488,  0.0525,  0.1105,  0.1102,  0.0288,  0.1158,\n",
       "          0.0952, -0.1084,  0.0417,  0.0232,  0.1004, -0.0953, -0.0042, -0.0585,\n",
       "          0.0077,  0.1088,  0.0524,  0.0052,  0.0898, -0.0952,  0.0628, -0.0983,\n",
       "         -0.0194,  0.0134, -0.1246, -0.0787,  0.0654, -0.0623, -0.0434,  0.0060,\n",
       "          0.1224,  0.0436,  0.0763, -0.0989, -0.0110, -0.1043, -0.1209, -0.0498,\n",
       "          0.0334,  0.0802,  0.0916,  0.0482,  0.1193, -0.1092,  0.1239,  0.0626,\n",
       "         -0.0194, -0.1106,  0.0601,  0.1111, -0.0651,  0.0050, -0.0099, -0.0824,\n",
       "         -0.0925, -0.0924, -0.0578, -0.0663],\n",
       "        [-0.0800, -0.0365, -0.0859,  0.0414,  0.0874, -0.0185, -0.0055,  0.0961,\n",
       "          0.0549, -0.0630,  0.0454,  0.1116,  0.1257,  0.0646, -0.0801,  0.0676,\n",
       "         -0.0695,  0.0664,  0.0370,  0.0217,  0.1273, -0.0689, -0.0918, -0.0021,\n",
       "         -0.0148, -0.0430, -0.0371,  0.1206, -0.0521, -0.0825, -0.1257, -0.1009,\n",
       "         -0.0175,  0.0983, -0.0595,  0.1148,  0.0805, -0.1036,  0.0661, -0.0005,\n",
       "          0.0794, -0.0110,  0.0975, -0.0867, -0.1250, -0.0409, -0.0095, -0.0667,\n",
       "         -0.0830, -0.1178,  0.0778, -0.0908,  0.0903, -0.0784,  0.0595, -0.0298,\n",
       "         -0.0587,  0.1082,  0.0825, -0.0353]], requires_grad=True)"
      ]
     },
     "execution_count": 12,
     "metadata": {},
     "output_type": "execute_result"
    }
   ],
   "source": [
    "network.out.weight"
   ]
  },
  {
   "cell_type": "code",
   "execution_count": null,
   "id": "4073fde3",
   "metadata": {
    "ExecuteTime": {
     "end_time": "2023-08-03T12:31:25.306753Z",
     "start_time": "2023-08-03T12:31:25.299757Z"
    }
   },
   "outputs": [
    {
     "data": {
      "text/plain": [
       "(5, 5)"
      ]
     },
     "execution_count": 13,
     "metadata": {},
     "output_type": "execute_result"
    }
   ],
   "source": [
    "network.conv1.kernel_size"
   ]
  },
  {
   "cell_type": "code",
   "execution_count": null,
   "id": "5cb0284a",
   "metadata": {
    "ExecuteTime": {
     "end_time": "2023-08-03T12:36:45.921856Z",
     "start_time": "2023-08-03T12:36:45.913856Z"
    }
   },
   "outputs": [
    {
     "data": {
      "text/plain": [
       "torch.Size([6, 1, 5, 5])"
      ]
     },
     "execution_count": 14,
     "metadata": {},
     "output_type": "execute_result"
    }
   ],
   "source": [
    "network.conv1.weight.shape"
   ]
  },
  {
   "cell_type": "code",
   "execution_count": null,
   "id": "c7ffd457",
   "metadata": {
    "ExecuteTime": {
     "end_time": "2023-08-03T12:36:54.330653Z",
     "start_time": "2023-08-03T12:36:54.323634Z"
    }
   },
   "outputs": [
    {
     "data": {
      "text/plain": [
       "torch.Size([12, 6, 5, 5])"
      ]
     },
     "execution_count": 15,
     "metadata": {},
     "output_type": "execute_result"
    }
   ],
   "source": [
    "network.conv2.weight.shape"
   ]
  },
  {
   "cell_type": "code",
   "execution_count": null,
   "id": "ad03b10a",
   "metadata": {
    "ExecuteTime": {
     "end_time": "2023-08-03T12:37:04.134906Z",
     "start_time": "2023-08-03T12:37:04.120924Z"
    }
   },
   "outputs": [
    {
     "data": {
      "text/plain": [
       "torch.Size([120, 192])"
      ]
     },
     "execution_count": 16,
     "metadata": {},
     "output_type": "execute_result"
    }
   ],
   "source": [
    "network.fc1.weight.shape"
   ]
  },
  {
   "cell_type": "code",
   "execution_count": null,
   "id": "25c34e6a",
   "metadata": {
    "ExecuteTime": {
     "end_time": "2023-08-03T12:37:12.203246Z",
     "start_time": "2023-08-03T12:37:12.189423Z"
    }
   },
   "outputs": [
    {
     "data": {
      "text/plain": [
       "torch.Size([60, 120])"
      ]
     },
     "execution_count": 17,
     "metadata": {},
     "output_type": "execute_result"
    }
   ],
   "source": [
    "network.fc2.weight.shape"
   ]
  },
  {
   "cell_type": "code",
   "execution_count": null,
   "id": "1280c7e5",
   "metadata": {
    "ExecuteTime": {
     "end_time": "2023-08-03T12:37:19.117106Z",
     "start_time": "2023-08-03T12:37:19.111745Z"
    }
   },
   "outputs": [
    {
     "data": {
      "text/plain": [
       "torch.Size([10, 60])"
      ]
     },
     "execution_count": 18,
     "metadata": {},
     "output_type": "execute_result"
    }
   ],
   "source": [
    "network.out.weight.shape"
   ]
  },
  {
   "cell_type": "code",
   "execution_count": null,
   "id": "b727d293",
   "metadata": {
    "ExecuteTime": {
     "end_time": "2023-08-03T12:55:49.526144Z",
     "start_time": "2023-08-03T12:55:49.513219Z"
    }
   },
   "outputs": [],
   "source": [
    "import torch"
   ]
  },
  {
   "cell_type": "code",
   "execution_count": null,
   "id": "65898bcb",
   "metadata": {
    "ExecuteTime": {
     "end_time": "2023-08-03T12:55:54.810435Z",
     "start_time": "2023-08-03T12:55:54.790000Z"
    }
   },
   "outputs": [],
   "source": [
    "in_features = torch.tensor([1, 2, 3, 4], dtype=torch.float32)"
   ]
  },
  {
   "cell_type": "code",
   "execution_count": null,
   "id": "dfe1137e",
   "metadata": {
    "ExecuteTime": {
     "end_time": "2023-08-03T12:57:04.120680Z",
     "start_time": "2023-08-03T12:57:04.105833Z"
    }
   },
   "outputs": [],
   "source": [
    "weight_matrix = torch.tensor([\n",
    "    [1, 2, 3, 4],\n",
    "    [2, 3, 4, 5],\n",
    "    [3, 4, 5, 6]]\n",
    ",dtype=torch.float32)"
   ]
  },
  {
   "cell_type": "code",
   "execution_count": null,
   "id": "d30e4e22",
   "metadata": {
    "ExecuteTime": {
     "end_time": "2023-08-03T12:57:27.679081Z",
     "start_time": "2023-08-03T12:57:27.663405Z"
    }
   },
   "outputs": [
    {
     "data": {
      "text/plain": [
       "tensor([30., 40., 50.])"
      ]
     },
     "execution_count": 25,
     "metadata": {},
     "output_type": "execute_result"
    }
   ],
   "source": [
    "weight_matrix.matmul(in_features)      # 矩阵乘法"
   ]
  },
  {
   "cell_type": "code",
   "execution_count": null,
   "id": "8e2430ef",
   "metadata": {
    "ExecuteTime": {
     "end_time": "2023-08-03T12:59:38.644596Z",
     "start_time": "2023-08-03T12:59:38.629529Z"
    }
   },
   "outputs": [
    {
     "name": "stdout",
     "output_type": "stream",
     "text": [
      "torch.Size([6, 1, 5, 5])\n",
      "torch.Size([6])\n",
      "torch.Size([12, 6, 5, 5])\n",
      "torch.Size([12])\n",
      "torch.Size([120, 192])\n",
      "torch.Size([120])\n",
      "torch.Size([60, 120])\n",
      "torch.Size([60])\n",
      "torch.Size([10, 60])\n",
      "torch.Size([10])\n"
     ]
    }
   ],
   "source": [
    "for param in network.parameters():\n",
    "    print(param.shape)"
   ]
  },
  {
   "cell_type": "code",
   "execution_count": null,
   "id": "f5169be4",
   "metadata": {
    "ExecuteTime": {
     "end_time": "2023-08-03T13:00:23.026167Z",
     "start_time": "2023-08-03T13:00:23.013824Z"
    }
   },
   "outputs": [
    {
     "name": "stdout",
     "output_type": "stream",
     "text": [
      "conv1.weight \t\t torch.Size([6, 1, 5, 5])\n",
      "conv1.bias \t\t torch.Size([6])\n",
      "conv2.weight \t\t torch.Size([12, 6, 5, 5])\n",
      "conv2.bias \t\t torch.Size([12])\n",
      "fc1.weight \t\t torch.Size([120, 192])\n",
      "fc1.bias \t\t torch.Size([120])\n",
      "fc2.weight \t\t torch.Size([60, 120])\n",
      "fc2.bias \t\t torch.Size([60])\n",
      "out.weight \t\t torch.Size([10, 60])\n",
      "out.bias \t\t torch.Size([10])\n"
     ]
    }
   ],
   "source": [
    "for name, param in network.named_parameters():\n",
    "    print(name, '\\t\\t', param.shape)"
   ]
  },
  {
   "cell_type": "code",
   "execution_count": null,
   "id": "823201a6",
   "metadata": {},
   "outputs": [],
   "source": []
  }
 ],
 "metadata": {
  "kernelspec": {
   "display_name": "Python 3 (ipykernel)",
   "language": "python",
   "name": "python3"
  },
  "language_info": {
   "codemirror_mode": {
    "name": "ipython",
    "version": 3
   },
   "file_extension": ".py",
   "mimetype": "text/x-python",
   "name": "python",
   "nbconvert_exporter": "python",
   "pygments_lexer": "ipython3",
   "version": "3.11.5"
  },
  "toc": {
   "base_numbering": 1,
   "nav_menu": {},
   "number_sections": true,
   "sideBar": true,
   "skip_h1_title": false,
   "title_cell": "Table of Contents",
   "title_sidebar": "Contents",
   "toc_cell": false,
   "toc_position": {},
   "toc_section_display": true,
   "toc_window_display": false
  }
 },
 "nbformat": 4,
 "nbformat_minor": 5
}
