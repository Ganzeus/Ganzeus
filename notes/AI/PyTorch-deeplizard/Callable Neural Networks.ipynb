{
 "cells": [
  {
   "cell_type": "code",
   "execution_count": 1,
   "id": "8e6fc66e",
   "metadata": {
    "ExecuteTime": {
     "end_time": "2023-08-03T13:54:43.219746Z",
     "start_time": "2023-08-03T13:54:43.207746Z"
    }
   },
   "outputs": [],
   "source": [
    "import torch\n",
    "import torch.nn as nn"
   ]
  },
  {
   "cell_type": "code",
   "execution_count": 5,
   "id": "3bcf9b42",
   "metadata": {
    "ExecuteTime": {
     "end_time": "2023-08-03T13:56:14.245198Z",
     "start_time": "2023-08-03T13:56:14.219212Z"
    }
   },
   "outputs": [
    {
     "data": {
      "text/plain": [
       "tensor([30., 40., 50.])"
      ]
     },
     "execution_count": 5,
     "metadata": {},
     "output_type": "execute_result"
    }
   ],
   "source": [
    "weight_matrix.matmul(in_features)      # 矩阵乘法"
   ]
  },
  {
   "cell_type": "code",
   "execution_count": 3,
   "id": "734042de",
   "metadata": {
    "ExecuteTime": {
     "end_time": "2023-08-03T13:55:41.544153Z",
     "start_time": "2023-08-03T13:55:41.524867Z"
    }
   },
   "outputs": [],
   "source": [
    "in_features = torch.tensor([1, 2, 3, 4], dtype=torch.float32)"
   ]
  },
  {
   "cell_type": "code",
   "execution_count": 6,
   "id": "58495eee",
   "metadata": {
    "ExecuteTime": {
     "end_time": "2023-08-03T13:57:43.894203Z",
     "start_time": "2023-08-03T13:57:43.876813Z"
    }
   },
   "outputs": [],
   "source": [
    "fc = nn.Linear(in_features=4, out_features=3)  # 4维转3维，weight为3x4"
   ]
  },
  {
   "cell_type": "code",
   "execution_count": 7,
   "id": "ded99ca3",
   "metadata": {
    "ExecuteTime": {
     "end_time": "2023-08-03T13:57:52.349455Z",
     "start_time": "2023-08-03T13:57:52.336800Z"
    }
   },
   "outputs": [
    {
     "data": {
      "text/plain": [
       "tensor([ 0.3224,  1.0318, -0.2596], grad_fn=<AddBackward0>)"
      ]
     },
     "execution_count": 7,
     "metadata": {},
     "output_type": "execute_result"
    }
   ],
   "source": [
    "fc(in_features)              # callable function"
   ]
  },
  {
   "cell_type": "code",
   "execution_count": 4,
   "id": "9653a3f4",
   "metadata": {
    "ExecuteTime": {
     "end_time": "2023-08-03T13:56:06.834959Z",
     "start_time": "2023-08-03T13:56:06.815959Z"
    }
   },
   "outputs": [],
   "source": [
    "weight_matrix = torch.tensor([\n",
    "    [1, 2, 3, 4],\n",
    "    [2, 3, 4, 5],\n",
    "    [3, 4, 5, 6]]\n",
    ",dtype=torch.float32)"
   ]
  },
  {
   "cell_type": "code",
   "execution_count": 8,
   "id": "3d6db5b3",
   "metadata": {
    "ExecuteTime": {
     "end_time": "2023-08-03T14:00:58.595955Z",
     "start_time": "2023-08-03T14:00:58.577987Z"
    }
   },
   "outputs": [],
   "source": [
    "fc.weight = nn.Parameter(weight_matrix)"
   ]
  },
  {
   "cell_type": "code",
   "execution_count": 9,
   "id": "934626d0",
   "metadata": {
    "ExecuteTime": {
     "end_time": "2023-08-03T14:01:03.914668Z",
     "start_time": "2023-08-03T14:01:03.901243Z"
    }
   },
   "outputs": [
    {
     "data": {
      "text/plain": [
       "tensor([30.2941, 39.5454, 50.0272], grad_fn=<AddBackward0>)"
      ]
     },
     "execution_count": 9,
     "metadata": {},
     "output_type": "execute_result"
    }
   ],
   "source": [
    "fc(in_features)                        # 默认有bias"
   ]
  },
  {
   "cell_type": "code",
   "execution_count": 10,
   "id": "99850c69",
   "metadata": {
    "ExecuteTime": {
     "end_time": "2023-08-03T14:01:39.148457Z",
     "start_time": "2023-08-03T14:01:39.140322Z"
    }
   },
   "outputs": [
    {
     "data": {
      "text/plain": [
       "tensor([30., 40., 50.])"
      ]
     },
     "execution_count": 10,
     "metadata": {},
     "output_type": "execute_result"
    }
   ],
   "source": [
    "weight_matrix.matmul(in_features)      # 矩阵乘法"
   ]
  },
  {
   "cell_type": "code",
   "execution_count": 14,
   "id": "4202590f",
   "metadata": {
    "ExecuteTime": {
     "end_time": "2023-08-03T14:03:23.135022Z",
     "start_time": "2023-08-03T14:03:23.125736Z"
    }
   },
   "outputs": [],
   "source": [
    "fc = nn.Linear(in_features=4, out_features=3, bias=False)  # 关闭bias"
   ]
  },
  {
   "cell_type": "code",
   "execution_count": 16,
   "id": "7d04b36b",
   "metadata": {
    "ExecuteTime": {
     "end_time": "2023-08-03T14:03:43.689944Z",
     "start_time": "2023-08-03T14:03:43.672779Z"
    }
   },
   "outputs": [],
   "source": [
    "fc.weight = nn.Parameter(weight_matrix)"
   ]
  },
  {
   "cell_type": "code",
   "execution_count": 17,
   "id": "517f87aa",
   "metadata": {
    "ExecuteTime": {
     "end_time": "2023-08-03T14:03:53.528926Z",
     "start_time": "2023-08-03T14:03:53.518956Z"
    }
   },
   "outputs": [
    {
     "data": {
      "text/plain": [
       "tensor([30., 40., 50.], grad_fn=<SqueezeBackward3>)"
      ]
     },
     "execution_count": 17,
     "metadata": {},
     "output_type": "execute_result"
    }
   ],
   "source": [
    "fc(in_features)"
   ]
  },
  {
   "cell_type": "code",
   "execution_count": null,
   "id": "b30b14f3",
   "metadata": {},
   "outputs": [],
   "source": []
  }
 ],
 "metadata": {
  "kernelspec": {
   "display_name": "Python 3 (ipykernel)",
   "language": "python",
   "name": "python3"
  },
  "language_info": {
   "codemirror_mode": {
    "name": "ipython",
    "version": 3
   },
   "file_extension": ".py",
   "mimetype": "text/x-python",
   "name": "python",
   "nbconvert_exporter": "python",
   "pygments_lexer": "ipython3",
   "version": "3.9.13"
  },
  "toc": {
   "base_numbering": 1,
   "nav_menu": {},
   "number_sections": true,
   "sideBar": true,
   "skip_h1_title": false,
   "title_cell": "Table of Contents",
   "title_sidebar": "Contents",
   "toc_cell": false,
   "toc_position": {},
   "toc_section_display": true,
   "toc_window_display": false
  }
 },
 "nbformat": 4,
 "nbformat_minor": 5
}
