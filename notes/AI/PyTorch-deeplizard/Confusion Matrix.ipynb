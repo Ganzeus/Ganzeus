{
 "cells": [
  {
   "cell_type": "markdown",
   "id": "689a0390",
   "metadata": {},
   "source": [
    "# Building and plotting a Confusion Matrix"
   ]
  },
  {
   "cell_type": "code",
   "execution_count": 1,
   "id": "dd4b485c",
   "metadata": {
    "ExecuteTime": {
     "end_time": "2023-10-12T16:47:32.835763Z",
     "start_time": "2023-10-12T16:47:21.209672Z"
    }
   },
   "outputs": [],
   "source": [
    "import torch\n",
    "import torch.nn as nn\n",
    "import torch.nn.functional as F\n",
    "import torch.optim as optim\n",
    "\n",
    "import torchvision\n",
    "import torchvision.transforms as transforms\n",
    "\n",
    "torch.set_printoptions(linewidth=120)\n",
    "torch.set_grad_enabled(True)      # Already on by default\n",
    "\n",
    "def get_num_correct(preds, labels):       # 预测正确的数量\n",
    "    return preds.argmax(dim=1).eq(labels).sum().item()\n",
    "\n",
    "class Network(nn.Module):\n",
    "    def __init__(self):\n",
    "        super(Network, self).__init__()\n",
    "        self.conv1 = nn.Conv2d(in_channels=1, out_channels=6, kernel_size=5)\n",
    "        self.conv2 = nn.Conv2d(in_channels=6, out_channels=12, kernel_size=5)\n",
    "        \n",
    "        self.fc1 = nn.Linear(in_features=12*4*4, out_features=120)     # Linear = fully connected(fc) = dense\n",
    "        self.fc2 = nn.Linear(in_features=120, out_features=60)\n",
    "        self.out = nn.Linear(in_features=60, out_features=10)\n",
    "        \n",
    "    def forward(self, t):\n",
    "        # (1) input layer\n",
    "        t = t\n",
    "        \n",
    "        # (2) hidden conv layer\n",
    "        t = self.conv1(t)\n",
    "        t = F.relu(t)                   # 卷积层中不包含激活函数，需要手动添加\n",
    "        t = F.max_pool2d(t, kernel_size=2, stride=2)     # 池化操作（没有权重的函数不能称为层）\n",
    "        \n",
    "        # (3) hidden conv layer\n",
    "        t = self.conv2(t)\n",
    "        t = F.relu(t)\n",
    "        t = F.max_pool2d(t, kernel_size=2, stride=2)\n",
    "        \n",
    "        # (4) hidden linear layer\n",
    "        t = t.reshape(-1, 12*4*4)       # 必须手动flatten\n",
    "        t = self.fc1(t)\n",
    "        t = F.relu(t)\n",
    "        \n",
    "        # (5) hidden linear layer\n",
    "        t = self.fc2(t)\n",
    "        t = F.relu(t)\n",
    "        \n",
    "        # (6) output layer\n",
    "        t = self.out(t)\n",
    "        # t = F.softmax(t, dim=1)           # 不直接在forward中用softmax，而是在训练过程中用cross-entropy损失函数计算loss，其中自带softmax\n",
    "        \n",
    "        return t\n",
    "\n",
    "network = Network()\n",
    "train_set = torchvision.datasets.FashionMNIST(\n",
    "    root = './data/FashionMNIST',\n",
    "    train=True,\n",
    "    download=True,\n",
    "    transform=transforms.Compose([\n",
    "        transforms.ToTensor()\n",
    "    ])\n",
    ")\n",
    "\n",
    "train_loader = torch.utils.data.DataLoader(train_set, batch_size=100)"
   ]
  },
  {
   "cell_type": "code",
   "execution_count": 2,
   "id": "592ec75c",
   "metadata": {
    "ExecuteTime": {
     "end_time": "2023-10-12T16:47:32.910982Z",
     "start_time": "2023-10-12T16:47:32.843312Z"
    }
   },
   "outputs": [
    {
     "data": {
      "text/plain": [
       "60000"
      ]
     },
     "execution_count": 2,
     "metadata": {},
     "output_type": "execute_result"
    }
   ],
   "source": [
    "len(train_set)"
   ]
  },
  {
   "cell_type": "code",
   "execution_count": 3,
   "id": "70748716",
   "metadata": {
    "ExecuteTime": {
     "end_time": "2023-10-12T16:47:44.477020Z",
     "start_time": "2023-10-12T16:47:44.462677Z"
    }
   },
   "outputs": [
    {
     "data": {
      "text/plain": [
       "60000"
      ]
     },
     "execution_count": 3,
     "metadata": {},
     "output_type": "execute_result"
    }
   ],
   "source": [
    "len(train_set.targets)"
   ]
  },
  {
   "cell_type": "markdown",
   "id": "13433d12",
   "metadata": {},
   "source": [
    "## Getting predictions for the entire training set"
   ]
  },
  {
   "cell_type": "code",
   "execution_count": 18,
   "id": "c6247bfc",
   "metadata": {
    "ExecuteTime": {
     "end_time": "2023-10-12T17:40:32.900362Z",
     "start_time": "2023-10-12T17:40:32.878251Z"
    }
   },
   "outputs": [],
   "source": [
    "def get_all_preds(model, loader):\n",
    "    all_preds = torch.tensor([])\n",
    "    for batch in loader:              # 按batch进行处理\n",
    "        images, labels = batch        # 提取图像和标签\n",
    "        \n",
    "        preds = model(images)         # 得到当前batch的预测标签\n",
    "        all_preds = torch.cat(        # 将每批预测标签添加进去\n",
    "            (all_preds, preds),\n",
    "            dim=0)\n",
    "        \n",
    "    return all_preds"
   ]
  },
  {
   "cell_type": "code",
   "execution_count": 5,
   "id": "17f3afa6",
   "metadata": {
    "ExecuteTime": {
     "end_time": "2023-10-12T17:23:57.437416Z",
     "start_time": "2023-10-12T17:23:52.732388Z"
    }
   },
   "outputs": [],
   "source": [
    "prediction_loader = torch.utils.data.DataLoader(train_set, batch_size=10000)\n",
    "train_preds = get_all_preds(network, prediction_loader)"
   ]
  },
  {
   "cell_type": "code",
   "execution_count": 6,
   "id": "d7792031",
   "metadata": {
    "ExecuteTime": {
     "end_time": "2023-10-12T17:24:08.196561Z",
     "start_time": "2023-10-12T17:24:08.182163Z"
    }
   },
   "outputs": [
    {
     "data": {
      "text/plain": [
       "torch.Size([10000, 10])"
      ]
     },
     "execution_count": 6,
     "metadata": {},
     "output_type": "execute_result"
    }
   ],
   "source": [
    "train_preds.shape"
   ]
  },
  {
   "cell_type": "code",
   "execution_count": 8,
   "id": "29e5b54c",
   "metadata": {
    "ExecuteTime": {
     "end_time": "2023-10-12T17:24:33.134804Z",
     "start_time": "2023-10-12T17:24:33.097133Z"
    }
   },
   "outputs": [
    {
     "name": "stdout",
     "output_type": "stream",
     "text": [
      "True\n"
     ]
    }
   ],
   "source": [
    "print(train_preds.requires_grad)      # 自动计算梯度打开会增加开销"
   ]
  },
  {
   "cell_type": "code",
   "execution_count": 9,
   "id": "eebbfb7f",
   "metadata": {
    "ExecuteTime": {
     "end_time": "2023-10-12T17:32:11.675822Z",
     "start_time": "2023-10-12T17:32:11.658456Z"
    }
   },
   "outputs": [
    {
     "name": "stderr",
     "output_type": "stream",
     "text": [
      "C:\\Users\\Ganzeus\\AppData\\Local\\Temp\\ipykernel_4240\\3308146931.py:1: UserWarning: The .grad attribute of a Tensor that is not a leaf Tensor is being accessed. Its .grad attribute won't be populated during autograd.backward(). If you indeed want the .grad field to be populated for a non-leaf Tensor, use .retain_grad() on the non-leaf Tensor. If you access the non-leaf Tensor by mistake, make sure you access the leaf Tensor instead. See github.com/pytorch/pytorch/pull/30531 for more informations. (Triggered internally at C:\\cb\\pytorch_1000000000000\\work\\build\\aten\\src\\ATen/core/TensorBody.h:485.)\n",
      "  train_preds.grad\n"
     ]
    }
   ],
   "source": [
    "train_preds.grad"
   ]
  },
  {
   "cell_type": "code",
   "execution_count": 10,
   "id": "0b6a12e8",
   "metadata": {
    "ExecuteTime": {
     "end_time": "2023-10-12T17:32:40.197585Z",
     "start_time": "2023-10-12T17:32:40.181232Z"
    }
   },
   "outputs": [
    {
     "data": {
      "text/plain": [
       "<CatBackward0 at 0x264499390a0>"
      ]
     },
     "execution_count": 10,
     "metadata": {},
     "output_type": "execute_result"
    }
   ],
   "source": [
    "train_preds.grad_fn           # 计算梯度的函数"
   ]
  },
  {
   "cell_type": "code",
   "execution_count": 19,
   "id": "1f8e9718",
   "metadata": {
    "ExecuteTime": {
     "end_time": "2023-10-12T17:41:04.068506Z",
     "start_time": "2023-10-12T17:40:37.520343Z"
    }
   },
   "outputs": [],
   "source": [
    "with torch.no_grad():         # 关闭梯度追踪\n",
    "    prediction_loader = torch.utils.data.DataLoader(train_set, batch_size=10000)\n",
    "    train_preds = get_all_preds(network, prediction_loader)"
   ]
  },
  {
   "cell_type": "code",
   "execution_count": 12,
   "id": "026ff4a6",
   "metadata": {
    "ExecuteTime": {
     "end_time": "2023-10-12T17:35:25.979279Z",
     "start_time": "2023-10-12T17:35:25.972462Z"
    }
   },
   "outputs": [
    {
     "name": "stdout",
     "output_type": "stream",
     "text": [
      "False\n"
     ]
    }
   ],
   "source": [
    "print(train_preds.requires_grad) "
   ]
  },
  {
   "cell_type": "code",
   "execution_count": 20,
   "id": "7c9e1b47",
   "metadata": {
    "ExecuteTime": {
     "end_time": "2023-10-12T17:41:04.083329Z",
     "start_time": "2023-10-12T17:41:04.075234Z"
    }
   },
   "outputs": [],
   "source": [
    "train_preds.grad"
   ]
  },
  {
   "cell_type": "code",
   "execution_count": 14,
   "id": "d15d6152",
   "metadata": {
    "ExecuteTime": {
     "end_time": "2023-10-12T17:35:42.796528Z",
     "start_time": "2023-10-12T17:35:42.787361Z"
    }
   },
   "outputs": [],
   "source": [
    "train_preds.grad_fn"
   ]
  },
  {
   "cell_type": "code",
   "execution_count": 22,
   "id": "8cf3ea1e",
   "metadata": {
    "ExecuteTime": {
     "end_time": "2023-10-12T17:41:13.564799Z",
     "start_time": "2023-10-12T17:41:13.506197Z"
    }
   },
   "outputs": [
    {
     "name": "stdout",
     "output_type": "stream",
     "text": [
      "total correct: 6000\n",
      "accuracy: 0.1\n"
     ]
    }
   ],
   "source": [
    "preds_correct = get_num_correct(train_preds, train_set.targets)\n",
    "\n",
    "print(\"total correct:\", preds_correct)\n",
    "print(\"accuracy:\", preds_correct / len(train_set))"
   ]
  },
  {
   "cell_type": "code",
   "execution_count": 21,
   "id": "5d6739a6",
   "metadata": {
    "ExecuteTime": {
     "end_time": "2023-10-12T17:41:04.113727Z",
     "start_time": "2023-10-12T17:41:04.088836Z"
    }
   },
   "outputs": [
    {
     "data": {
      "text/plain": [
       "torch.Size([60000, 10])"
      ]
     },
     "execution_count": 21,
     "metadata": {},
     "output_type": "execute_result"
    }
   ],
   "source": [
    "train_preds.shape"
   ]
  },
  {
   "cell_type": "code",
   "execution_count": null,
   "id": "97eed412",
   "metadata": {},
   "outputs": [],
   "source": []
  }
 ],
 "metadata": {
  "kernelspec": {
   "display_name": "Python 3 (ipykernel)",
   "language": "python",
   "name": "python3"
  },
  "language_info": {
   "codemirror_mode": {
    "name": "ipython",
    "version": 3
   },
   "file_extension": ".py",
   "mimetype": "text/x-python",
   "name": "python",
   "nbconvert_exporter": "python",
   "pygments_lexer": "ipython3",
   "version": "3.9.13"
  },
  "toc": {
   "base_numbering": 1,
   "nav_menu": {},
   "number_sections": true,
   "sideBar": true,
   "skip_h1_title": false,
   "title_cell": "Table of Contents",
   "title_sidebar": "Contents",
   "toc_cell": false,
   "toc_position": {},
   "toc_section_display": true,
   "toc_window_display": false
  }
 },
 "nbformat": 4,
 "nbformat_minor": 5
}
