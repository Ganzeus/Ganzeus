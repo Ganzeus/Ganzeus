{
 "cells": [
  {
   "cell_type": "code",
   "execution_count": 1,
   "id": "6b934a3d",
   "metadata": {
    "ExecuteTime": {
     "end_time": "2023-08-05T11:19:50.173418Z",
     "start_time": "2023-08-05T11:19:40.903254Z"
    }
   },
   "outputs": [],
   "source": [
    "import torch\n",
    "import torch.nn as nn\n",
    "import torch.nn.functional as F\n",
    "\n",
    "import torchvision\n",
    "import torchvision.transforms as transforms\n",
    "\n",
    "torch.set_printoptions(linewidth=120)"
   ]
  },
  {
   "cell_type": "code",
   "execution_count": 2,
   "id": "0a8e3496",
   "metadata": {
    "ExecuteTime": {
     "end_time": "2023-08-05T11:19:50.213192Z",
     "start_time": "2023-08-05T11:19:50.173418Z"
    }
   },
   "outputs": [],
   "source": [
    "class Network(nn.Module):\n",
    "    def __init__(self):\n",
    "        super(Network, self).__init__()\n",
    "        self.conv1 = nn.Conv2d(in_channels=1, out_channels=6, kernel_size=5)\n",
    "        self.conv2 = nn.Conv2d(in_channels=6, out_channels=12, kernel_size=5)\n",
    "        \n",
    "        self.fc1 = nn.Linear(in_features=12*4*4, out_features=120)     # Linear = fully connected(fc) = dense\n",
    "        self.fc2 = nn.Linear(in_features=120, out_features=60)\n",
    "        self.out = nn.Linear(in_features=60, out_features=10)\n",
    "        \n",
    "    def forward(self, t):\n",
    "        # (1) input layer\n",
    "        t = t\n",
    "        \n",
    "        # (2) hidden conv layer\n",
    "        t = self.conv1(t)\n",
    "        t = F.relu(t)                   # 卷积层中不包含激活函数，需要手动添加\n",
    "        t = F.max_pool2d(t, kernel_size=2, stride=2)     # 池化操作（没有权重的函数不能称为层）\n",
    "        \n",
    "        # (3) hidden conv layer\n",
    "        t = self.conv2(t)\n",
    "        t = F.relu(t)\n",
    "        t = F.max_pool2d(t, kernel_size=2, stride=2)\n",
    "        \n",
    "        # (4) hidden linear layer\n",
    "        t = t.reshape(-1, 12*4*4)       # 必须手动flatten\n",
    "        t = self.fc1(t)\n",
    "        t = F.relu(t)\n",
    "        \n",
    "        # (5) hidden linear layer\n",
    "        t = self.fc2(t)\n",
    "        t = F.relu(t)\n",
    "        \n",
    "        # (6) output layer\n",
    "        t = self.out(t)\n",
    "        # t = F.softmax(t, dim=1)           # 不直接在forward中用softmax，而是在训练过程中用cross-entropy损失函数计算loss，其中自带softmax\n",
    "        \n",
    "        return t"
   ]
  },
  {
   "cell_type": "code",
   "execution_count": 3,
   "id": "ffb0060f",
   "metadata": {
    "ExecuteTime": {
     "end_time": "2023-08-05T11:19:50.349050Z",
     "start_time": "2023-08-05T11:19:50.216731Z"
    }
   },
   "outputs": [],
   "source": [
    "train_set = torchvision.datasets.FashionMNIST(\n",
    "    root = './data/FashionMNIST',\n",
    "    train=True,\n",
    "    download=True,\n",
    "    transform=transforms.Compose([\n",
    "        transforms.ToTensor()\n",
    "    ])\n",
    ")"
   ]
  },
  {
   "cell_type": "code",
   "execution_count": 4,
   "id": "36d61de9",
   "metadata": {
    "ExecuteTime": {
     "end_time": "2023-08-05T11:19:54.183491Z",
     "start_time": "2023-08-05T11:19:54.143693Z"
    }
   },
   "outputs": [
    {
     "data": {
      "text/plain": [
       "<torch.autograd.grad_mode.set_grad_enabled at 0x1959b617eb0>"
      ]
     },
     "execution_count": 4,
     "metadata": {},
     "output_type": "execute_result"
    }
   ],
   "source": [
    "torch.set_grad_enabled(False)            # 关闭自动计算梯度"
   ]
  },
  {
   "cell_type": "code",
   "execution_count": 5,
   "id": "757f909d",
   "metadata": {
    "ExecuteTime": {
     "end_time": "2023-08-05T11:19:56.253531Z",
     "start_time": "2023-08-05T11:19:56.223136Z"
    }
   },
   "outputs": [],
   "source": [
    "network = Network()"
   ]
  },
  {
   "cell_type": "code",
   "execution_count": 10,
   "id": "007c7ad9",
   "metadata": {
    "ExecuteTime": {
     "end_time": "2023-08-04T07:44:20.051233Z",
     "start_time": "2023-08-04T07:44:20.037269Z"
    }
   },
   "outputs": [],
   "source": [
    "sample = next(iter(train_set))"
   ]
  },
  {
   "cell_type": "code",
   "execution_count": 11,
   "id": "477ef778",
   "metadata": {
    "ExecuteTime": {
     "end_time": "2023-08-04T07:44:30.471757Z",
     "start_time": "2023-08-04T07:44:30.458735Z"
    }
   },
   "outputs": [
    {
     "data": {
      "text/plain": [
       "torch.Size([1, 28, 28])"
      ]
     },
     "execution_count": 11,
     "metadata": {},
     "output_type": "execute_result"
    }
   ],
   "source": [
    "image, label = sample\n",
    "image.shape"
   ]
  },
  {
   "cell_type": "code",
   "execution_count": 12,
   "id": "3b8cb9dc",
   "metadata": {
    "ExecuteTime": {
     "end_time": "2023-08-04T07:45:43.306622Z",
     "start_time": "2023-08-04T07:45:43.291453Z"
    }
   },
   "outputs": [
    {
     "data": {
      "text/plain": [
       "torch.Size([1, 1, 28, 28])"
      ]
     },
     "execution_count": 12,
     "metadata": {},
     "output_type": "execute_result"
    }
   ],
   "source": [
    "image.unsqueeze(0).shape           # 增加一个长度为1的轴(batch_size)"
   ]
  },
  {
   "cell_type": "code",
   "execution_count": 13,
   "id": "8a354dba",
   "metadata": {
    "ExecuteTime": {
     "end_time": "2023-08-04T07:46:43.787263Z",
     "start_time": "2023-08-04T07:46:43.765601Z"
    }
   },
   "outputs": [],
   "source": [
    "pred = network(image.unsqueeze(0))   # 将图像送入网络进行计算,返回值就是forward函数的返回值"
   ]
  },
  {
   "cell_type": "code",
   "execution_count": 14,
   "id": "4f03fd90",
   "metadata": {
    "ExecuteTime": {
     "end_time": "2023-08-04T07:47:43.891182Z",
     "start_time": "2023-08-04T07:47:43.883544Z"
    }
   },
   "outputs": [
    {
     "data": {
      "text/plain": [
       "torch.Size([1, 10])"
      ]
     },
     "execution_count": 14,
     "metadata": {},
     "output_type": "execute_result"
    }
   ],
   "source": [
    "pred.shape"
   ]
  },
  {
   "cell_type": "code",
   "execution_count": 15,
   "id": "b0631268",
   "metadata": {
    "ExecuteTime": {
     "end_time": "2023-08-04T07:48:04.317729Z",
     "start_time": "2023-08-04T07:48:04.302708Z"
    }
   },
   "outputs": [
    {
     "data": {
      "text/plain": [
       "tensor([[-0.0860, -0.0837,  0.1099,  0.0447, -0.0141, -0.0006,  0.0194,  0.1543,  0.0808, -0.0027]])"
      ]
     },
     "execution_count": 15,
     "metadata": {},
     "output_type": "execute_result"
    }
   ],
   "source": [
    "pred"
   ]
  },
  {
   "cell_type": "code",
   "execution_count": 16,
   "id": "0644d63b",
   "metadata": {
    "ExecuteTime": {
     "end_time": "2023-08-04T07:48:11.647936Z",
     "start_time": "2023-08-04T07:48:11.634444Z"
    }
   },
   "outputs": [
    {
     "data": {
      "text/plain": [
       "9"
      ]
     },
     "execution_count": 16,
     "metadata": {},
     "output_type": "execute_result"
    }
   ],
   "source": [
    "label"
   ]
  },
  {
   "cell_type": "code",
   "execution_count": 17,
   "id": "85b4a01b",
   "metadata": {
    "ExecuteTime": {
     "end_time": "2023-08-04T07:48:35.997950Z",
     "start_time": "2023-08-04T07:48:35.981146Z"
    }
   },
   "outputs": [
    {
     "data": {
      "text/plain": [
       "tensor([7])"
      ]
     },
     "execution_count": 17,
     "metadata": {},
     "output_type": "execute_result"
    }
   ],
   "source": [
    "pred.argmax(dim=1)   # 得到概率最高的下标"
   ]
  },
  {
   "cell_type": "code",
   "execution_count": 18,
   "id": "a42c4ab0",
   "metadata": {
    "ExecuteTime": {
     "end_time": "2023-08-04T07:49:23.006723Z",
     "start_time": "2023-08-04T07:49:22.997455Z"
    }
   },
   "outputs": [
    {
     "data": {
      "text/plain": [
       "tensor([[0.0895, 0.0897, 0.1089, 0.1020, 0.0962, 0.0975, 0.0994, 0.1138, 0.1057, 0.0973]])"
      ]
     },
     "execution_count": 18,
     "metadata": {},
     "output_type": "execute_result"
    }
   ],
   "source": [
    "F.softmax(pred, dim=1)"
   ]
  },
  {
   "cell_type": "code",
   "execution_count": 19,
   "id": "cdf294e9",
   "metadata": {
    "ExecuteTime": {
     "end_time": "2023-08-04T07:49:34.081455Z",
     "start_time": "2023-08-04T07:49:34.074447Z"
    }
   },
   "outputs": [
    {
     "data": {
      "text/plain": [
       "tensor(1.)"
      ]
     },
     "execution_count": 19,
     "metadata": {},
     "output_type": "execute_result"
    }
   ],
   "source": [
    "F.softmax(pred, dim=1).sum()"
   ]
  },
  {
   "cell_type": "code",
   "execution_count": 6,
   "id": "87a9cf6c",
   "metadata": {
    "ExecuteTime": {
     "end_time": "2023-08-05T11:22:06.283289Z",
     "start_time": "2023-08-05T11:22:06.263140Z"
    }
   },
   "outputs": [],
   "source": [
    "data_loader = torch.utils.data.DataLoader(\n",
    "    train_set,\n",
    "    batch_size=10\n",
    ")"
   ]
  },
  {
   "cell_type": "code",
   "execution_count": 7,
   "id": "7c52c55a",
   "metadata": {
    "ExecuteTime": {
     "end_time": "2023-08-05T11:24:34.762573Z",
     "start_time": "2023-08-05T11:24:34.712805Z"
    }
   },
   "outputs": [],
   "source": [
    "batch = next(iter(data_loader))"
   ]
  },
  {
   "cell_type": "code",
   "execution_count": 8,
   "id": "307463a5",
   "metadata": {
    "ExecuteTime": {
     "end_time": "2023-08-05T11:24:42.157962Z",
     "start_time": "2023-08-05T11:24:42.137212Z"
    }
   },
   "outputs": [],
   "source": [
    "images, labels = batch"
   ]
  },
  {
   "cell_type": "code",
   "execution_count": 12,
   "id": "1d88c876",
   "metadata": {
    "ExecuteTime": {
     "end_time": "2023-08-05T11:26:06.102629Z",
     "start_time": "2023-08-05T11:26:06.072604Z"
    }
   },
   "outputs": [
    {
     "data": {
      "text/plain": [
       "torch.Size([10, 1, 28, 28])"
      ]
     },
     "execution_count": 12,
     "metadata": {},
     "output_type": "execute_result"
    }
   ],
   "source": [
    "images.shape"
   ]
  },
  {
   "cell_type": "code",
   "execution_count": 13,
   "id": "102f558b",
   "metadata": {
    "ExecuteTime": {
     "end_time": "2023-08-05T11:26:08.562811Z",
     "start_time": "2023-08-05T11:26:08.533169Z"
    }
   },
   "outputs": [
    {
     "data": {
      "text/plain": [
       "torch.Size([10])"
      ]
     },
     "execution_count": 13,
     "metadata": {},
     "output_type": "execute_result"
    }
   ],
   "source": [
    "labels.shape"
   ]
  },
  {
   "cell_type": "code",
   "execution_count": 14,
   "id": "d41d4834",
   "metadata": {
    "ExecuteTime": {
     "end_time": "2023-08-05T11:27:38.497748Z",
     "start_time": "2023-08-05T11:27:38.432464Z"
    }
   },
   "outputs": [
    {
     "data": {
      "text/plain": [
       "torch.Size([10, 10])"
      ]
     },
     "execution_count": 14,
     "metadata": {},
     "output_type": "execute_result"
    }
   ],
   "source": [
    "preds = network(images)\n",
    "preds.shape"
   ]
  },
  {
   "cell_type": "code",
   "execution_count": 15,
   "id": "8dacd210",
   "metadata": {
    "ExecuteTime": {
     "end_time": "2023-08-05T11:27:42.202786Z",
     "start_time": "2023-08-05T11:27:42.182673Z"
    }
   },
   "outputs": [
    {
     "data": {
      "text/plain": [
       "tensor([[ 0.1183, -0.0298,  0.0083, -0.1290, -0.1002,  0.1151, -0.0808,  0.1337, -0.0231,  0.1287],\n",
       "        [ 0.1093, -0.0375, -0.0038, -0.1295, -0.1037,  0.1090, -0.0887,  0.1391, -0.0249,  0.1310],\n",
       "        [ 0.1270, -0.0301,  0.0022, -0.1260, -0.0985,  0.1066, -0.0920,  0.1343, -0.0215,  0.1273],\n",
       "        [ 0.1228, -0.0339,  0.0022, -0.1259, -0.0993,  0.1070, -0.0876,  0.1331, -0.0210,  0.1286],\n",
       "        [ 0.1188, -0.0399,  0.0014, -0.1235, -0.0943,  0.1038, -0.0800,  0.1332, -0.0251,  0.1239],\n",
       "        [ 0.1172, -0.0325, -0.0038, -0.1281, -0.1088,  0.1150, -0.0889,  0.1373, -0.0246,  0.1347],\n",
       "        [ 0.1253, -0.0301, -0.0082, -0.1352, -0.0990,  0.1145, -0.1098,  0.1515, -0.0299,  0.1392],\n",
       "        [ 0.1190, -0.0277,  0.0025, -0.1309, -0.1088,  0.1205, -0.0845,  0.1327, -0.0209,  0.1325],\n",
       "        [ 0.1270, -0.0276,  0.0015, -0.1222, -0.1035,  0.1126, -0.0979,  0.1401, -0.0207,  0.1341],\n",
       "        [ 0.1288, -0.0256,  0.0010, -0.1188, -0.1019,  0.1137, -0.0947,  0.1361, -0.0185,  0.1335]])"
      ]
     },
     "execution_count": 15,
     "metadata": {},
     "output_type": "execute_result"
    }
   ],
   "source": [
    "preds"
   ]
  },
  {
   "cell_type": "code",
   "execution_count": 16,
   "id": "951fb5df",
   "metadata": {
    "ExecuteTime": {
     "end_time": "2023-08-05T11:29:01.242346Z",
     "start_time": "2023-08-05T11:29:01.212464Z"
    }
   },
   "outputs": [
    {
     "data": {
      "text/plain": [
       "tensor([7, 7, 7, 7, 7, 7, 7, 7, 7, 7])"
      ]
     },
     "execution_count": 16,
     "metadata": {},
     "output_type": "execute_result"
    }
   ],
   "source": [
    "preds.argmax(dim=1)"
   ]
  },
  {
   "cell_type": "code",
   "execution_count": 18,
   "id": "90c1249f",
   "metadata": {
    "ExecuteTime": {
     "end_time": "2023-08-05T11:31:51.458509Z",
     "start_time": "2023-08-05T11:31:51.432220Z"
    }
   },
   "outputs": [
    {
     "data": {
      "text/plain": [
       "tensor([9, 0, 0, 3, 0, 2, 7, 2, 5, 5])"
      ]
     },
     "execution_count": 18,
     "metadata": {},
     "output_type": "execute_result"
    }
   ],
   "source": [
    "labels"
   ]
  },
  {
   "cell_type": "code",
   "execution_count": 19,
   "id": "0f965706",
   "metadata": {
    "ExecuteTime": {
     "end_time": "2023-08-05T11:36:08.938278Z",
     "start_time": "2023-08-05T11:36:08.911735Z"
    }
   },
   "outputs": [
    {
     "data": {
      "text/plain": [
       "tensor([False, False, False, False, False, False,  True, False, False, False])"
      ]
     },
     "execution_count": 19,
     "metadata": {},
     "output_type": "execute_result"
    }
   ],
   "source": [
    "preds.argmax(dim=1).eq(labels)          # 与labels张量逐个比对，相同则为True"
   ]
  },
  {
   "cell_type": "code",
   "execution_count": 20,
   "id": "301b2a8c",
   "metadata": {
    "ExecuteTime": {
     "end_time": "2023-08-05T11:36:32.481531Z",
     "start_time": "2023-08-05T11:36:32.451969Z"
    }
   },
   "outputs": [
    {
     "data": {
      "text/plain": [
       "tensor(1)"
      ]
     },
     "execution_count": 20,
     "metadata": {},
     "output_type": "execute_result"
    }
   ],
   "source": [
    "preds.argmax(dim=1).eq(labels).sum()    # 预测正确的个数"
   ]
  },
  {
   "cell_type": "code",
   "execution_count": 21,
   "id": "1a40ad15",
   "metadata": {
    "ExecuteTime": {
     "end_time": "2023-08-05T11:38:18.421486Z",
     "start_time": "2023-08-05T11:38:18.402633Z"
    }
   },
   "outputs": [],
   "source": [
    "def get_num_correct(preds, labels):\n",
    "    return preds.argmax(dim=1).eq(labels).sum().item()"
   ]
  },
  {
   "cell_type": "code",
   "execution_count": 22,
   "id": "3dd8874f",
   "metadata": {
    "ExecuteTime": {
     "end_time": "2023-08-05T11:38:28.711293Z",
     "start_time": "2023-08-05T11:38:28.691394Z"
    }
   },
   "outputs": [
    {
     "data": {
      "text/plain": [
       "1"
      ]
     },
     "execution_count": 22,
     "metadata": {},
     "output_type": "execute_result"
    }
   ],
   "source": [
    "get_num_correct(preds, labels)"
   ]
  },
  {
   "cell_type": "code",
   "execution_count": null,
   "id": "995ab15e",
   "metadata": {},
   "outputs": [],
   "source": []
  }
 ],
 "metadata": {
  "kernelspec": {
   "display_name": "Python 3 (ipykernel)",
   "language": "python",
   "name": "python3"
  },
  "language_info": {
   "codemirror_mode": {
    "name": "ipython",
    "version": 3
   },
   "file_extension": ".py",
   "mimetype": "text/x-python",
   "name": "python",
   "nbconvert_exporter": "python",
   "pygments_lexer": "ipython3",
   "version": "3.9.13"
  },
  "toc": {
   "base_numbering": 1,
   "nav_menu": {},
   "number_sections": true,
   "sideBar": true,
   "skip_h1_title": false,
   "title_cell": "Table of Contents",
   "title_sidebar": "Contents",
   "toc_cell": false,
   "toc_position": {},
   "toc_section_display": true,
   "toc_window_display": false
  }
 },
 "nbformat": 4,
 "nbformat_minor": 5
}
