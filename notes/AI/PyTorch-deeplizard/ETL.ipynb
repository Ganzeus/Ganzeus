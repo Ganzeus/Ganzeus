{
 "cells": [
  {
   "cell_type": "code",
   "execution_count": 1,
   "id": "c3bd88d8",
   "metadata": {
    "ExecuteTime": {
     "end_time": "2023-07-16T04:30:38.533069Z",
     "start_time": "2023-07-16T04:30:36.951296Z"
    },
    "run_control": {
     "marked": false
    }
   },
   "outputs": [],
   "source": [
    "import torch\n",
    "import torchvision\n",
    "import torchvision.transforms as transforms  # 图像处理库"
   ]
  },
  {
   "cell_type": "code",
   "execution_count": 2,
   "id": "fd3c545f",
   "metadata": {
    "ExecuteTime": {
     "end_time": "2023-07-16T04:30:40.146775Z",
     "start_time": "2023-07-16T04:30:40.104016Z"
    },
    "code_folding": [],
    "run_control": {
     "marked": false
    }
   },
   "outputs": [],
   "source": [
    "train_set = torchvision.datasets.FashionMNIST(   # E&T\n",
    "    root='./data/FashionMNIST',                  # 指定数据存放位置\n",
    "    train=True,                                  # 下载训练集（6万张）\n",
    "    download=True,                               # 如果数据不在指定目录，就下载\n",
    "    transform=transforms.Compose([               # 图像m预处理\n",
    "        transforms.ToTensor()                    # 转换成Tensor\n",
    "    ])\n",
    ")"
   ]
  },
  {
   "cell_type": "code",
   "execution_count": 4,
   "id": "08ab1d53",
   "metadata": {
    "ExecuteTime": {
     "end_time": "2023-07-16T04:30:56.922266Z",
     "start_time": "2023-07-16T04:30:56.914423Z"
    }
   },
   "outputs": [],
   "source": [
    "train_loader = torch.utils.data.DataLoader(train_set)    # L"
   ]
  },
  {
   "cell_type": "code",
   "execution_count": null,
   "id": "dc0569d9",
   "metadata": {},
   "outputs": [],
   "source": []
  }
 ],
 "metadata": {
  "kernelspec": {
   "display_name": "Python 3 (ipykernel)",
   "language": "python",
   "name": "python3"
  },
  "language_info": {
   "codemirror_mode": {
    "name": "ipython",
    "version": 3
   },
   "file_extension": ".py",
   "mimetype": "text/x-python",
   "name": "python",
   "nbconvert_exporter": "python",
   "pygments_lexer": "ipython3",
   "version": "3.9.13"
  },
  "toc": {
   "base_numbering": 1,
   "nav_menu": {},
   "number_sections": true,
   "sideBar": true,
   "skip_h1_title": false,
   "title_cell": "Table of Contents",
   "title_sidebar": "Contents",
   "toc_cell": false,
   "toc_position": {},
   "toc_section_display": true,
   "toc_window_display": false
  }
 },
 "nbformat": 4,
 "nbformat_minor": 5
}
