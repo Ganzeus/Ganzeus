{
 "cells": [
  {
   "cell_type": "code",
   "execution_count": 1,
   "id": "c2bff366",
   "metadata": {
    "ExecuteTime": {
     "end_time": "2023-07-16T06:52:46.456398Z",
     "start_time": "2023-07-16T06:52:46.445277Z"
    }
   },
   "outputs": [],
   "source": [
    "import torch\n",
    "import torchvision\n",
    "import torchvision.transforms as transforms"
   ]
  },
  {
   "cell_type": "code",
   "execution_count": 2,
   "id": "2f13398b",
   "metadata": {
    "ExecuteTime": {
     "end_time": "2023-07-16T06:54:45.347932Z",
     "start_time": "2023-07-16T06:54:45.313283Z"
    }
   },
   "outputs": [],
   "source": [
    "train_set = torchvision.datasets.FashionMNIST(   # E&T\n",
    "    root='./data/FashionMNIST',                  # 指定数据存放位置\n",
    "    train=True,                                  # 下载训练集（6万张）\n",
    "    download=True,                               # 如果数据不在指定目录，就下载\n",
    "    transform=transforms.Compose([               # 图像m预处理\n",
    "        transforms.ToTensor()                    # 转换成Tensor\n",
    "    ])\n",
    ")\n",
    "train_loader = torch.utils.data.DataLoader(\n",
    "    train_set, batch_size=10                     # 默认batch_size=1\n",
    ")"
   ]
  },
  {
   "cell_type": "code",
   "execution_count": 3,
   "id": "877270e0",
   "metadata": {
    "ExecuteTime": {
     "end_time": "2023-07-16T06:55:54.920799Z",
     "start_time": "2023-07-16T06:55:54.446939Z"
    }
   },
   "outputs": [],
   "source": [
    "import numpy as np\n",
    "import matplotlib.pyplot as plt\n",
    "\n",
    "torch.set_printoptions(linewidth=120)            # 设置输出的行高"
   ]
  },
  {
   "cell_type": "code",
   "execution_count": 4,
   "id": "6ac090be",
   "metadata": {
    "ExecuteTime": {
     "end_time": "2023-07-16T06:56:11.652306Z",
     "start_time": "2023-07-16T06:56:11.630324Z"
    }
   },
   "outputs": [
    {
     "data": {
      "text/plain": [
       "60000"
      ]
     },
     "execution_count": 4,
     "metadata": {},
     "output_type": "execute_result"
    }
   ],
   "source": [
    "len(train_set)"
   ]
  },
  {
   "cell_type": "code",
   "execution_count": 7,
   "id": "6c3011cb",
   "metadata": {
    "ExecuteTime": {
     "end_time": "2023-07-16T06:57:12.905790Z",
     "start_time": "2023-07-16T06:57:12.895780Z"
    }
   },
   "outputs": [
    {
     "data": {
      "text/plain": [
       "tensor([9, 0, 0,  ..., 3, 0, 5])"
      ]
     },
     "execution_count": 7,
     "metadata": {},
     "output_type": "execute_result"
    }
   ],
   "source": [
    "train_set.targets                   # label"
   ]
  },
  {
   "cell_type": "code",
   "execution_count": 8,
   "id": "ef34f301",
   "metadata": {
    "ExecuteTime": {
     "end_time": "2023-07-16T06:57:41.300761Z",
     "start_time": "2023-07-16T06:57:41.263762Z"
    }
   },
   "outputs": [
    {
     "data": {
      "text/plain": [
       "tensor([6000, 6000, 6000, 6000, 6000, 6000, 6000, 6000, 6000, 6000])"
      ]
     },
     "execution_count": 8,
     "metadata": {},
     "output_type": "execute_result"
    }
   ],
   "source": [
    "train_set.train_labels.bincount()   # 每个类别都有6000个样本（即0-9每个都出现6000次），称这种数据集为平衡数据集"
   ]
  },
  {
   "cell_type": "code",
   "execution_count": 9,
   "id": "8cf4f62c",
   "metadata": {
    "ExecuteTime": {
     "end_time": "2023-07-16T07:18:30.183043Z",
     "start_time": "2023-07-16T07:18:30.170055Z"
    }
   },
   "outputs": [
    {
     "data": {
      "text/plain": [
       "<iterator at 0x22bd8af9910>"
      ]
     },
     "execution_count": 9,
     "metadata": {},
     "output_type": "execute_result"
    }
   ],
   "source": [
    "iter(train_set)"
   ]
  },
  {
   "cell_type": "code",
   "execution_count": 10,
   "id": "9fe7e868",
   "metadata": {
    "ExecuteTime": {
     "end_time": "2023-07-16T07:19:06.209800Z",
     "start_time": "2023-07-16T07:19:06.182803Z"
    }
   },
   "outputs": [],
   "source": [
    "sample = next(iter(train_set))      # 调用iterator的__next__函数获取下一个元素"
   ]
  },
  {
   "cell_type": "code",
   "execution_count": 11,
   "id": "2c868598",
   "metadata": {
    "ExecuteTime": {
     "end_time": "2023-07-16T07:19:10.482904Z",
     "start_time": "2023-07-16T07:19:10.468906Z"
    }
   },
   "outputs": [
    {
     "data": {
      "text/plain": [
       "2"
      ]
     },
     "execution_count": 11,
     "metadata": {},
     "output_type": "execute_result"
    }
   ],
   "source": [
    "len(sample)"
   ]
  },
  {
   "cell_type": "code",
   "execution_count": 12,
   "id": "50c12ed5",
   "metadata": {
    "ExecuteTime": {
     "end_time": "2023-07-16T07:19:17.252176Z",
     "start_time": "2023-07-16T07:19:17.238113Z"
    }
   },
   "outputs": [
    {
     "data": {
      "text/plain": [
       "tuple"
      ]
     },
     "execution_count": 12,
     "metadata": {},
     "output_type": "execute_result"
    }
   ],
   "source": [
    "type(sample)                        # (image, label)"
   ]
  },
  {
   "cell_type": "code",
   "execution_count": 14,
   "id": "13fe1da4",
   "metadata": {
    "ExecuteTime": {
     "end_time": "2023-07-16T07:21:21.272742Z",
     "start_time": "2023-07-16T07:21:21.266734Z"
    }
   },
   "outputs": [],
   "source": [
    "image, label = sample"
   ]
  },
  {
   "cell_type": "code",
   "execution_count": 15,
   "id": "c578c26b",
   "metadata": {
    "ExecuteTime": {
     "end_time": "2023-07-16T07:22:40.202935Z",
     "start_time": "2023-07-16T07:22:40.182938Z"
    }
   },
   "outputs": [
    {
     "data": {
      "text/plain": [
       "torch.Size([1, 28, 28])"
      ]
     },
     "execution_count": 15,
     "metadata": {},
     "output_type": "execute_result"
    }
   ],
   "source": [
    "image.shape"
   ]
  },
  {
   "cell_type": "code",
   "execution_count": 16,
   "id": "d8056176",
   "metadata": {
    "ExecuteTime": {
     "end_time": "2023-07-16T07:22:43.577880Z",
     "start_time": "2023-07-16T07:22:42.887187Z"
    }
   },
   "outputs": [
    {
     "ename": "AttributeError",
     "evalue": "'int' object has no attribute 'shape'",
     "output_type": "error",
     "traceback": [
      "\u001b[1;31m---------------------------------------------------------------------------\u001b[0m",
      "\u001b[1;31mAttributeError\u001b[0m                            Traceback (most recent call last)",
      "\u001b[1;32m~\\AppData\\Local\\Temp\\ipykernel_14596\\3167956246.py\u001b[0m in \u001b[0;36m<module>\u001b[1;34m\u001b[0m\n\u001b[1;32m----> 1\u001b[1;33m \u001b[0mlabel\u001b[0m\u001b[1;33m.\u001b[0m\u001b[0mshape\u001b[0m\u001b[1;33m\u001b[0m\u001b[1;33m\u001b[0m\u001b[0m\n\u001b[0m",
      "\u001b[1;31mAttributeError\u001b[0m: 'int' object has no attribute 'shape'"
     ]
    }
   ],
   "source": [
    "label.shape"
   ]
  },
  {
   "cell_type": "code",
   "execution_count": 18,
   "id": "faa2b2c2",
   "metadata": {
    "ExecuteTime": {
     "end_time": "2023-07-16T07:24:44.172419Z",
     "start_time": "2023-07-16T07:24:44.011966Z"
    }
   },
   "outputs": [
    {
     "name": "stdout",
     "output_type": "stream",
     "text": [
      "label: 9\n"
     ]
    },
    {
     "data": {
      "image/png": "[encoded data removed]",
      "text/plain": [
       "<Figure size 640x480 with 1 Axes>"
      ]
     },
     "metadata": {},
     "output_type": "display_data"
    }
   ],
   "source": [
    "plt.imshow(image.squeeze(), cmap='gray')\n",
    "print('label:', label)"
   ]
  },
  {
   "cell_type": "markdown",
   "id": "f518652c",
   "metadata": {},
   "source": [
    "## Working with batches of data"
   ]
  },
  {
   "cell_type": "code",
   "execution_count": 19,
   "id": "c27913d7",
   "metadata": {
    "ExecuteTime": {
     "end_time": "2023-07-16T07:29:00.990384Z",
     "start_time": "2023-07-16T07:29:00.966251Z"
    }
   },
   "outputs": [],
   "source": [
    "batch = next(iter(train_loader))"
   ]
  },
  {
   "cell_type": "code",
   "execution_count": 20,
   "id": "137cec82",
   "metadata": {
    "ExecuteTime": {
     "end_time": "2023-07-16T07:29:03.222144Z",
     "start_time": "2023-07-16T07:29:03.218131Z"
    }
   },
   "outputs": [
    {
     "data": {
      "text/plain": [
       "2"
      ]
     },
     "execution_count": 20,
     "metadata": {},
     "output_type": "execute_result"
    }
   ],
   "source": [
    "len(batch)"
   ]
  },
  {
   "cell_type": "code",
   "execution_count": 26,
   "id": "814c5af5",
   "metadata": {
    "ExecuteTime": {
     "end_time": "2023-07-16T07:30:28.912310Z",
     "start_time": "2023-07-16T07:30:28.899310Z"
    }
   },
   "outputs": [
    {
     "data": {
      "text/plain": [
       "list"
      ]
     },
     "execution_count": 26,
     "metadata": {},
     "output_type": "execute_result"
    }
   ],
   "source": [
    "type(batch)                       # 包含10个(image, label)的列表"
   ]
  },
  {
   "cell_type": "code",
   "execution_count": 22,
   "id": "44a2320d",
   "metadata": {
    "ExecuteTime": {
     "end_time": "2023-07-16T07:29:36.081528Z",
     "start_time": "2023-07-16T07:29:36.066433Z"
    }
   },
   "outputs": [],
   "source": [
    "images, labels = batch"
   ]
  },
  {
   "cell_type": "code",
   "execution_count": 24,
   "id": "0d1fa6ee",
   "metadata": {
    "ExecuteTime": {
     "end_time": "2023-07-16T07:29:45.954719Z",
     "start_time": "2023-07-16T07:29:45.946709Z"
    }
   },
   "outputs": [
    {
     "data": {
      "text/plain": [
       "torch.Size([10, 1, 28, 28])"
      ]
     },
     "execution_count": 24,
     "metadata": {},
     "output_type": "execute_result"
    }
   ],
   "source": [
    "images.shape"
   ]
  },
  {
   "cell_type": "code",
   "execution_count": 27,
   "id": "71c3de7f",
   "metadata": {
    "ExecuteTime": {
     "end_time": "2023-07-16T07:30:41.178355Z",
     "start_time": "2023-07-16T07:30:41.164302Z"
    }
   },
   "outputs": [
    {
     "data": {
      "text/plain": [
       "torch.Size([10])"
      ]
     },
     "execution_count": 27,
     "metadata": {},
     "output_type": "execute_result"
    }
   ],
   "source": [
    "labels.shape"
   ]
  },
  {
   "cell_type": "markdown",
   "id": "0dec413f",
   "metadata": {},
   "source": [
    "### 用torchvision.utils.make_grid函数一次画出整批图像"
   ]
  },
  {
   "cell_type": "code",
   "execution_count": 35,
   "id": "7221922c",
   "metadata": {
    "ExecuteTime": {
     "end_time": "2023-07-16T07:35:28.152071Z",
     "start_time": "2023-07-16T07:35:28.061189Z"
    }
   },
   "outputs": [
    {
     "name": "stdout",
     "output_type": "stream",
     "text": [
      "labels: tensor([9, 0, 0, 3, 0, 2, 7, 2, 5, 5])\n"
     ]
    },
    {
     "data": {
      "image/png": "[encoded data removed]",
      "text/plain": [
       "<Figure size 1500x1500 with 1 Axes>"
      ]
     },
     "metadata": {},
     "output_type": "display_data"
    }
   ],
   "source": [
    "grid = torchvision.utils.make_grid(images, nrow=10)        # 创建一个网格，一行10格\n",
    "\n",
    "plt.figure(figsize=(15, 15))               # 调整每幅图的大小\n",
    "plt.imshow(np.transpose(grid, (1, 2, 0)))\n",
    "\n",
    "print(\"labels:\", labels)"
   ]
  },
  {
   "cell_type": "code",
   "execution_count": null,
   "id": "aeb1295d",
   "metadata": {},
   "outputs": [],
   "source": []
  }
 ],
 "metadata": {
  "kernelspec": {
   "display_name": "Python 3 (ipykernel)",
   "language": "python",
   "name": "python3"
  },
  "language_info": {
   "codemirror_mode": {
    "name": "ipython",
    "version": 3
   },
   "file_extension": ".py",
   "mimetype": "text/x-python",
   "name": "python",
   "nbconvert_exporter": "python",
   "pygments_lexer": "ipython3",
   "version": "3.9.13"
  },
  "toc": {
   "base_numbering": 1,
   "nav_menu": {},
   "number_sections": true,
   "sideBar": true,
   "skip_h1_title": false,
   "title_cell": "Table of Contents",
   "title_sidebar": "Contents",
   "toc_cell": false,
   "toc_position": {},
   "toc_section_display": true,
   "toc_window_display": false
  }
 },
 "nbformat": 4,
 "nbformat_minor": 5
}
